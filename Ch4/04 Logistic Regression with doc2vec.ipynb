{
  "nbformat": 4,
  "nbformat_minor": 0,
  "metadata": {
    "kernelspec": {
      "display_name": "Python 2",
      "language": "python",
      "name": "python2"
    },
    "language_info": {
      "codemirror_mode": {
        "name": "ipython",
        "version": 2
      },
      "file_extension": ".py",
      "mimetype": "text/x-python",
      "name": "python",
      "nbconvert_exporter": "python",
      "pygments_lexer": "ipython2",
      "version": "2.7.12"
    },
    "colab": {
      "name": "04 Logistic Regression with doc2vec.ipynb",
      "provenance": [],
      "include_colab_link": true
    }
  },
  "cells": [
    {
      "cell_type": "markdown",
      "metadata": {
        "id": "view-in-github",
        "colab_type": "text"
      },
      "source": [
        "<a href=\"https://colab.research.google.com/github/nishkalavallabhi/practicalnlp/blob/V_2_0/Ch4/04%20Logistic%20Regression%20with%20doc2vec.ipynb\" target=\"_parent\"><img src=\"https://colab.research.google.com/assets/colab-badge.svg\" alt=\"Open In Colab\"/></a>"
      ]
    },
    {
      "cell_type": "code",
      "metadata": {
        "id": "cp3xSbHm5u_h",
        "colab_type": "code",
        "colab": {}
      },
      "source": [
        "# NACHISS - DATA NEEDED"
      ],
      "execution_count": 0,
      "outputs": []
    },
    {
      "cell_type": "code",
      "metadata": {
        "id": "QmkIkeIO5u_o",
        "colab_type": "code",
        "colab": {}
      },
      "source": [
        ""
      ],
      "execution_count": 0,
      "outputs": []
    },
    {
      "cell_type": "code",
      "metadata": {
        "id": "78FBRW_Y5vAK",
        "colab_type": "code",
        "colab": {}
      },
      "source": [
        "from gensim import utils\n",
        "from gensim.models.doc2vec import TaggedDocument\n",
        "from gensim.models import Doc2Vec\n",
        "from sklearn.linear_model import LogisticRegression\n",
        " \n",
        "import sys\n",
        "import numpy\n",
        "import random\n",
        " \n",
        " \n",
        "class TaggedLineSentence(object):\n",
        "    def __init__(self, sources):\n",
        "        self.sources = sources\n",
        " \n",
        "        flipped = {}\n",
        " \n",
        "        # make sure that keys are unique\n",
        "        for key, value in sources.items():\n",
        "            if value not in flipped:\n",
        "                flipped[value] = [key]\n",
        "            else:\n",
        "                raise Exception('Non-unique prefix encountered')\n",
        " \n",
        "    def __iter__(self):\n",
        "        for source, prefix in self.sources.items():\n",
        "            with utils.smart_open(source) as fin:\n",
        "                for item_no, line in enumerate(fin):\n",
        "                    yield TaggedDocument(utils.to_unicode(line).split(), [prefix + '_%s' % item_no])\n",
        " \n",
        "    def to_array(self):\n",
        "        self.sentences = []\n",
        "        for source, prefix in self.sources.items():\n",
        "            with utils.smart_open(source) as fin:\n",
        "                for item_no, line in enumerate(fin):\n",
        "                    self.sentences.append(TaggedDocument(utils.to_unicode(line).split(), [prefix + '_%s' % item_no]))\n",
        "        return(self.sentences)\n",
        " \n",
        "    def sentences_perm(self):\n",
        "        shuffled = list(self.sentences)\n",
        "        random.shuffle(shuffled)\n",
        "        return(shuffled)"
      ],
      "execution_count": 0,
      "outputs": []
    },
    {
      "cell_type": "code",
      "metadata": {
        "id": "UwMTdafT5vAU",
        "colab_type": "code",
        "colab": {},
        "outputId": "344faa08-49b9-4086-aaeb-c5f8fe5630a3"
      },
      "source": [
        "print 'loading corpus'\n",
        "\n",
        "sources = {'./../../../dataset/test-neg.txt': 'TEST_NEG',\n",
        "                  './../../../dataset/test-pos.txt': 'TEST_POS',\n",
        "                  './../../../dataset/train-neg.txt': 'TRAIN_NEG',\n",
        "                  './../../../dataset/train-pos.txt': 'TRAIN_POS'}"
      ],
      "execution_count": 0,
      "outputs": [
        {
          "output_type": "stream",
          "text": [
            "loading corpus\n"
          ],
          "name": "stdout"
        }
      ]
    },
    {
      "cell_type": "code",
      "metadata": {
        "id": "TDOcN2xA5vAl",
        "colab_type": "code",
        "colab": {},
        "outputId": "bebbe6f5-a96c-4d6d-9b96-5b8d4afabb6e"
      },
      "source": [
        "sentences = TaggedLineSentence(sources)\n",
        "model = Doc2Vec(min_count=1, window=10, vector_size=100, sample=1e-4, negative=5, workers=7)\n",
        "model.build_vocab(sentences.to_array())\n",
        "for epoch in range(10):\n",
        "    print 'epoch: ' + str(epoch)\n",
        "    #model.train(sentences.sentences_perm())\n",
        "    model.train(sentences, total_examples=model.corpus_count, epochs=model.iter)\n",
        " \n",
        "model.save('./imdb.d2v')\n",
        "model = Doc2Vec.load('./imdb.d2v')\n",
        " \n",
        "print 'starting to train'\n",
        "train_arrays = numpy.zeros((25000, 100))\n",
        "train_labels = numpy.zeros(25000)\n",
        "for i in range(12500):\n",
        "    prefix_train_pos = 'TRAIN_POS_' + str(i)\n",
        "    prefix_train_neg = 'TRAIN_NEG_' + str(i)\n",
        "    train_arrays[i] = model.docvecs[prefix_train_pos]\n",
        "    train_arrays[12500 + i] = model.docvecs[prefix_train_neg]\n",
        "    train_labels[i] = 1\n",
        "    train_labels[12500 + i] = 0\n",
        " \n",
        "print 'starting to test'\n",
        "test_arrays = numpy.zeros((25000, 100))\n",
        "test_labels = numpy.zeros(25000)\n",
        "for i in range(12500):\n",
        "    prefix_test_pos = 'TEST_POS_' + str(i)\n",
        "    prefix_test_neg = 'TEST_NEG_' + str(i)\n",
        "    test_arrays[i] = model.docvecs[prefix_test_pos]\n",
        "    test_arrays[12500 + i] = model.docvecs[prefix_test_neg]\n",
        "    test_labels[i] = 1\n",
        "    test_labels[12500 + i] = 0"
      ],
      "execution_count": 0,
      "outputs": [
        {
          "output_type": "stream",
          "text": [
            "epoch: 0\n"
          ],
          "name": "stdout"
        },
        {
          "output_type": "stream",
          "text": [
            "/home/root1/.virtualenv/demos/lib/python2.7/site-packages/ipykernel_launcher.py:7: DeprecationWarning: Call to deprecated `iter` (Attribute will be removed in 4.0.0, use self.epochs instead).\n",
            "  import sys\n"
          ],
          "name": "stderr"
        },
        {
          "output_type": "stream",
          "text": [
            "epoch: 1\n",
            "epoch: 2\n",
            "epoch: 3\n",
            "epoch: 4\n",
            "epoch: 5\n",
            "epoch: 6\n",
            "epoch: 7\n",
            "epoch: 8\n",
            "epoch: 9\n",
            "starting to train\n",
            "starting to test\n"
          ],
          "name": "stdout"
        }
      ]
    },
    {
      "cell_type": "code",
      "metadata": {
        "id": "rE1kJCC-5vAt",
        "colab_type": "code",
        "colab": {},
        "outputId": "4bca5071-3ce7-4b32-cf15-82272c43b26c"
      },
      "source": [
        "print 'fitting model'\n",
        "classifier = LogisticRegression()\n",
        "classifier.fit(train_arrays, train_labels)\n",
        "LogisticRegression(\n",
        "    C=1.0, class_weight=None, dual=False, fit_intercept=True,\n",
        "    intercept_scaling=1, penalty='l2', random_state=None, tol=0.0001)\n",
        " \n",
        "print str(classifier.score(test_arrays, test_labels))"
      ],
      "execution_count": 0,
      "outputs": [
        {
          "output_type": "stream",
          "text": [
            "fitting model\n",
            "0.62804\n"
          ],
          "name": "stdout"
        }
      ]
    },
    {
      "cell_type": "code",
      "metadata": {
        "id": "INTWvS8s5vBK",
        "colab_type": "code",
        "colab": {}
      },
      "source": [
        ""
      ],
      "execution_count": 0,
      "outputs": []
    }
  ]
}