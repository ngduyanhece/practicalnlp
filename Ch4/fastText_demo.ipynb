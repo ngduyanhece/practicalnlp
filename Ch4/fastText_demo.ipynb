{
  "nbformat": 4,
  "nbformat_minor": 0,
  "metadata": {
    "kernelspec": {
      "display_name": "Python 2",
      "language": "python",
      "name": "python2"
    },
    "language_info": {
      "codemirror_mode": {
        "name": "ipython",
        "version": 2
      },
      "file_extension": ".py",
      "mimetype": "text/x-python",
      "name": "python",
      "nbconvert_exporter": "python",
      "pygments_lexer": "ipython2",
      "version": "2.7.10"
    },
    "colab": {
      "name": "fastText_demo.ipynb",
      "provenance": [],
      "include_colab_link": true
    }
  },
  "cells": [
    {
      "cell_type": "markdown",
      "metadata": {
        "id": "view-in-github",
        "colab_type": "text"
      },
      "source": [
        "<a href=\"https://colab.research.google.com/github/nishkalavallabhi/practicalnlp/blob/V_2_0/Ch4/fastText_demo.ipynb\" target=\"_parent\"><img src=\"https://colab.research.google.com/assets/colab-badge.svg\" alt=\"Open In Colab\"/></a>"
      ]
    },
    {
      "cell_type": "markdown",
      "metadata": {
        "id": "XQoyHBymFDiU",
        "colab_type": "text"
      },
      "source": [
        "Text classification dataset DBPedia. The dataset consists of text descriptions of 14 different classes. The training set contains 560,000 reviews and the test contains 70,000. Idea is to build a model that can predict the class from description.\n",
        "\n",
        "\n",
        "Download dataset from [here](https://drive.google.com/drive/folders/0Bz8a_Dbh9Qhbfll6bVpmNUtUcFdjYmF2SEpmZUZUcVNiMUw1TWN6RDV3a0JHT3kxLVhVR2M). \n",
        "\n"
      ]
    },
    {
      "cell_type": "code",
      "metadata": {
        "id": "ujSaOFefZBmk",
        "colab_type": "code",
        "colab": {
          "base_uri": "https://localhost:8080/",
          "height": 238
        },
        "outputId": "aa99b2ca-a37c-4d48-e34d-81aa5276310c"
      },
      "source": [
        "!pip install fasttext"
      ],
      "execution_count": 1,
      "outputs": [
        {
          "output_type": "stream",
          "text": [
            "Collecting fasttext\n",
            "\u001b[?25l  Downloading https://files.pythonhosted.org/packages/10/61/2e01f1397ec533756c1d893c22d9d5ed3fce3a6e4af1976e0d86bb13ea97/fasttext-0.9.1.tar.gz (57kB)\n",
            "\r\u001b[K     |█████▊                          | 10kB 15.3MB/s eta 0:00:01\r\u001b[K     |███████████▍                    | 20kB 6.6MB/s eta 0:00:01\r\u001b[K     |█████████████████               | 30kB 9.2MB/s eta 0:00:01\r\u001b[K     |██████████████████████▊         | 40kB 6.1MB/s eta 0:00:01\r\u001b[K     |████████████████████████████▍   | 51kB 7.4MB/s eta 0:00:01\r\u001b[K     |████████████████████████████████| 61kB 3.8MB/s \n",
            "\u001b[?25hRequirement already satisfied: pybind11>=2.2 in /usr/local/lib/python2.7/dist-packages (from fasttext) (2.4.2)\n",
            "Requirement already satisfied: setuptools>=0.7.0 in /usr/local/lib/python2.7/dist-packages (from fasttext) (41.2.0)\n",
            "Requirement already satisfied: numpy in /usr/local/lib/python2.7/dist-packages (from fasttext) (1.16.4)\n",
            "Building wheels for collected packages: fasttext\n",
            "  Building wheel for fasttext (setup.py) ... \u001b[?25l\u001b[?25hdone\n",
            "  Created wheel for fasttext: filename=fasttext-0.9.1-cp27-cp27mu-linux_x86_64.whl size=2364806 sha256=2632e216717f315ae81a8977d63dc47e6d68b3cb245ea611b1f2b6aa7ddb197b\n",
            "  Stored in directory: /root/.cache/pip/wheels/9f/f0/04/caa82c912aee89ce76358ff954f3f0729b7577c8ff23a292e3\n",
            "Successfully built fasttext\n",
            "Installing collected packages: fasttext\n",
            "Successfully installed fasttext-0.9.1\n"
          ],
          "name": "stdout"
        }
      ]
    },
    {
      "cell_type": "code",
      "metadata": {
        "id": "wzu3iHcgaEi6",
        "colab_type": "code",
        "colab": {
          "base_uri": "https://localhost:8080/",
          "height": 224
        },
        "outputId": "3898d7dd-e35d-4f99-c613-2060078ca51c"
      },
      "source": [
        "!apt-get install -y -qq software-properties-common python-software-properties module-init-tools\n",
        "!add-apt-repository -y ppa:alessandro-strada/ppa 2>&1 > /dev/null\n",
        "!apt-get update -qq 2>&1 > /dev/null\n",
        "!apt-get -y install -qq google-drive-ocamlfuse fuse\n",
        "from google.colab import auth\n",
        "auth.authenticate_user()\n",
        "from oauth2client.client import GoogleCredentials\n",
        "creds = GoogleCredentials.get_application_default()\n",
        "import getpass\n",
        "!google-drive-ocamlfuse -headless -id={creds.client_id} -secret={creds.client_secret} < /dev/null 2>&1 | grep URL\n",
        "vcode = getpass.getpass()\n",
        "!echo {vcode} | google-drive-ocamlfuse -headless -id={creds.client_id} -secret={creds.client_secret}\n",
        "!mkdir -p drive\n",
        "!google-drive-ocamlfuse drive"
      ],
      "execution_count": 2,
      "outputs": [
        {
          "output_type": "stream",
          "text": [
            "E: Package 'python-software-properties' has no installation candidate\n",
            "Selecting previously unselected package google-drive-ocamlfuse.\n",
            "(Reading database ... 131183 files and directories currently installed.)\n",
            "Preparing to unpack .../google-drive-ocamlfuse_0.7.13-0ubuntu1~ubuntu18.04.1_amd64.deb ...\n",
            "Unpacking google-drive-ocamlfuse (0.7.13-0ubuntu1~ubuntu18.04.1) ...\n",
            "Setting up google-drive-ocamlfuse (0.7.13-0ubuntu1~ubuntu18.04.1) ...\n",
            "Processing triggers for man-db (2.8.3-2ubuntu0.1) ...\n",
            "Please, open the following URL in a web browser: https://accounts.google.com/o/oauth2/auth?client_id=32555940559.apps.googleusercontent.com&redirect_uri=urn%3Aietf%3Awg%3Aoauth%3A2.0%3Aoob&scope=https%3A%2F%2Fwww.googleapis.com%2Fauth%2Fdrive&response_type=code&access_type=offline&approval_prompt=force\n",
            "··········\n",
            "Please, open the following URL in a web browser: https://accounts.google.com/o/oauth2/auth?client_id=32555940559.apps.googleusercontent.com&redirect_uri=urn%3Aietf%3Awg%3Aoauth%3A2.0%3Aoob&scope=https%3A%2F%2Fwww.googleapis.com%2Fauth%2Fdrive&response_type=code&access_type=offline&approval_prompt=force\n",
            "Please enter the verification code: Access token retrieved correctly.\n"
          ],
          "name": "stdout"
        }
      ]
    },
    {
      "cell_type": "code",
      "metadata": {
        "id": "Ab_aBryaFDii",
        "colab_type": "code",
        "colab": {}
      },
      "source": [
        "import os,sys  \n",
        "import pandas as pd\n",
        "import numpy as np\n",
        "import fasttext"
      ],
      "execution_count": 0,
      "outputs": []
    },
    {
      "cell_type": "code",
      "metadata": {
        "id": "9spkUGHdFDit",
        "colab_type": "code",
        "colab": {
          "base_uri": "https://localhost:8080/",
          "height": 204
        },
        "outputId": "9e4325d2-7517-4e25-a7bc-81fab2eb6d9f"
      },
      "source": [
        "# Set dataset path\n",
        "\n",
        "data_path = '/content/drive/NLP_book/Datasets/practicalnlp-master/Ch4/dbpedia_csv/dbpedia_csv/'\n",
        "\n",
        "#Load train set\n",
        "train_file = data_path + 'train.csv'\n",
        "df = pd.read_csv(train_file, header=None, names=['class','name','description'])\n",
        "\n",
        "#Load test set\n",
        "test_file = data_path + 'test.csv'\n",
        "df_test = pd.read_csv(test_file, header=None, names=['class','name','description'])\n",
        "\n",
        "#Mapping from class number to class name\n",
        "class_dict={\n",
        "1:'Company',\n",
        "2:'EducationalInstitution',\n",
        "3:'Artist',\n",
        "4:'Athlete',\n",
        "5:'OfficeHolder',\n",
        "6:'MeanOfTransportation',\n",
        "7:'Building',\n",
        "8:'NaturalPlace',\n",
        "9:'Village',\n",
        "10:'Animal',\n",
        "11:'Plant',\n",
        "12:'Album',\n",
        "13:'Film',\n",
        "14:'WrittenWork'\n",
        "}\n",
        "df['class_name'] = df['class'].map(class_dict)\n",
        "df.head()\n",
        "df.tail()"
      ],
      "execution_count": 4,
      "outputs": [
        {
          "output_type": "execute_result",
          "data": {
            "text/html": [
              "<div>\n",
              "<style scoped>\n",
              "    .dataframe tbody tr th:only-of-type {\n",
              "        vertical-align: middle;\n",
              "    }\n",
              "\n",
              "    .dataframe tbody tr th {\n",
              "        vertical-align: top;\n",
              "    }\n",
              "\n",
              "    .dataframe thead th {\n",
              "        text-align: right;\n",
              "    }\n",
              "</style>\n",
              "<table border=\"1\" class=\"dataframe\">\n",
              "  <thead>\n",
              "    <tr style=\"text-align: right;\">\n",
              "      <th></th>\n",
              "      <th>class</th>\n",
              "      <th>name</th>\n",
              "      <th>description</th>\n",
              "      <th>class_name</th>\n",
              "    </tr>\n",
              "  </thead>\n",
              "  <tbody>\n",
              "    <tr>\n",
              "      <th>559995</th>\n",
              "      <td>14</td>\n",
              "      <td>Barking in Essex</td>\n",
              "      <td>Barking in Essex is a Black comedy play direc...</td>\n",
              "      <td>WrittenWork</td>\n",
              "    </tr>\n",
              "    <tr>\n",
              "      <th>559996</th>\n",
              "      <td>14</td>\n",
              "      <td>Science &amp; Spirit</td>\n",
              "      <td>Science &amp; Spirit is a discontinued American b...</td>\n",
              "      <td>WrittenWork</td>\n",
              "    </tr>\n",
              "    <tr>\n",
              "      <th>559997</th>\n",
              "      <td>14</td>\n",
              "      <td>The Blithedale Romance</td>\n",
              "      <td>The Blithedale Romance (1852) is Nathaniel Ha...</td>\n",
              "      <td>WrittenWork</td>\n",
              "    </tr>\n",
              "    <tr>\n",
              "      <th>559998</th>\n",
              "      <td>14</td>\n",
              "      <td>Razadarit Ayedawbon</td>\n",
              "      <td>Razadarit Ayedawbon (Burmese: ရာဇာဓိရာဇ် အရေး...</td>\n",
              "      <td>WrittenWork</td>\n",
              "    </tr>\n",
              "    <tr>\n",
              "      <th>559999</th>\n",
              "      <td>14</td>\n",
              "      <td>The Vinyl Cafe Notebooks</td>\n",
              "      <td>Vinyl Cafe Notebooks: a collection of essays ...</td>\n",
              "      <td>WrittenWork</td>\n",
              "    </tr>\n",
              "  </tbody>\n",
              "</table>\n",
              "</div>"
            ],
            "text/plain": [
              "        class  ...   class_name\n",
              "559995     14  ...  WrittenWork\n",
              "559996     14  ...  WrittenWork\n",
              "559997     14  ...  WrittenWork\n",
              "559998     14  ...  WrittenWork\n",
              "559999     14  ...  WrittenWork\n",
              "\n",
              "[5 rows x 4 columns]"
            ]
          },
          "metadata": {
            "tags": []
          },
          "execution_count": 4
        }
      ]
    },
    {
      "cell_type": "code",
      "metadata": {
        "id": "on2n-4L_FDjA",
        "colab_type": "code",
        "colab": {
          "base_uri": "https://localhost:8080/",
          "height": 204
        },
        "outputId": "6023c6b3-ed5f-4c31-eb44-481bb10db408"
      },
      "source": [
        "df.head()\n"
      ],
      "execution_count": 5,
      "outputs": [
        {
          "output_type": "execute_result",
          "data": {
            "text/html": [
              "<div>\n",
              "<style scoped>\n",
              "    .dataframe tbody tr th:only-of-type {\n",
              "        vertical-align: middle;\n",
              "    }\n",
              "\n",
              "    .dataframe tbody tr th {\n",
              "        vertical-align: top;\n",
              "    }\n",
              "\n",
              "    .dataframe thead th {\n",
              "        text-align: right;\n",
              "    }\n",
              "</style>\n",
              "<table border=\"1\" class=\"dataframe\">\n",
              "  <thead>\n",
              "    <tr style=\"text-align: right;\">\n",
              "      <th></th>\n",
              "      <th>class</th>\n",
              "      <th>name</th>\n",
              "      <th>description</th>\n",
              "      <th>class_name</th>\n",
              "    </tr>\n",
              "  </thead>\n",
              "  <tbody>\n",
              "    <tr>\n",
              "      <th>0</th>\n",
              "      <td>1</td>\n",
              "      <td>E. D. Abbott Ltd</td>\n",
              "      <td>Abbott of Farnham E D Abbott Limited was a Br...</td>\n",
              "      <td>Company</td>\n",
              "    </tr>\n",
              "    <tr>\n",
              "      <th>1</th>\n",
              "      <td>1</td>\n",
              "      <td>Schwan-Stabilo</td>\n",
              "      <td>Schwan-STABILO is a German maker of pens for ...</td>\n",
              "      <td>Company</td>\n",
              "    </tr>\n",
              "    <tr>\n",
              "      <th>2</th>\n",
              "      <td>1</td>\n",
              "      <td>Q-workshop</td>\n",
              "      <td>Q-workshop is a Polish company located in Poz...</td>\n",
              "      <td>Company</td>\n",
              "    </tr>\n",
              "    <tr>\n",
              "      <th>3</th>\n",
              "      <td>1</td>\n",
              "      <td>Marvell Software Solutions Israel</td>\n",
              "      <td>Marvell Software Solutions Israel known as RA...</td>\n",
              "      <td>Company</td>\n",
              "    </tr>\n",
              "    <tr>\n",
              "      <th>4</th>\n",
              "      <td>1</td>\n",
              "      <td>Bergan Mercy Medical Center</td>\n",
              "      <td>Bergan Mercy Medical Center is a hospital loc...</td>\n",
              "      <td>Company</td>\n",
              "    </tr>\n",
              "  </tbody>\n",
              "</table>\n",
              "</div>"
            ],
            "text/plain": [
              "   class  ... class_name\n",
              "0      1  ...    Company\n",
              "1      1  ...    Company\n",
              "2      1  ...    Company\n",
              "3      1  ...    Company\n",
              "4      1  ...    Company\n",
              "\n",
              "[5 rows x 4 columns]"
            ]
          },
          "metadata": {
            "tags": []
          },
          "execution_count": 5
        }
      ]
    },
    {
      "cell_type": "code",
      "metadata": {
        "id": "wLU5StEfFDjq",
        "colab_type": "code",
        "colab": {
          "base_uri": "https://localhost:8080/",
          "height": 204
        },
        "outputId": "23816a60-41b4-4e01-eeea-c188174396f5"
      },
      "source": [
        "\n",
        "df.tail()"
      ],
      "execution_count": 6,
      "outputs": [
        {
          "output_type": "execute_result",
          "data": {
            "text/html": [
              "<div>\n",
              "<style scoped>\n",
              "    .dataframe tbody tr th:only-of-type {\n",
              "        vertical-align: middle;\n",
              "    }\n",
              "\n",
              "    .dataframe tbody tr th {\n",
              "        vertical-align: top;\n",
              "    }\n",
              "\n",
              "    .dataframe thead th {\n",
              "        text-align: right;\n",
              "    }\n",
              "</style>\n",
              "<table border=\"1\" class=\"dataframe\">\n",
              "  <thead>\n",
              "    <tr style=\"text-align: right;\">\n",
              "      <th></th>\n",
              "      <th>class</th>\n",
              "      <th>name</th>\n",
              "      <th>description</th>\n",
              "      <th>class_name</th>\n",
              "    </tr>\n",
              "  </thead>\n",
              "  <tbody>\n",
              "    <tr>\n",
              "      <th>559995</th>\n",
              "      <td>14</td>\n",
              "      <td>Barking in Essex</td>\n",
              "      <td>Barking in Essex is a Black comedy play direc...</td>\n",
              "      <td>WrittenWork</td>\n",
              "    </tr>\n",
              "    <tr>\n",
              "      <th>559996</th>\n",
              "      <td>14</td>\n",
              "      <td>Science &amp; Spirit</td>\n",
              "      <td>Science &amp; Spirit is a discontinued American b...</td>\n",
              "      <td>WrittenWork</td>\n",
              "    </tr>\n",
              "    <tr>\n",
              "      <th>559997</th>\n",
              "      <td>14</td>\n",
              "      <td>The Blithedale Romance</td>\n",
              "      <td>The Blithedale Romance (1852) is Nathaniel Ha...</td>\n",
              "      <td>WrittenWork</td>\n",
              "    </tr>\n",
              "    <tr>\n",
              "      <th>559998</th>\n",
              "      <td>14</td>\n",
              "      <td>Razadarit Ayedawbon</td>\n",
              "      <td>Razadarit Ayedawbon (Burmese: ရာဇာဓိရာဇ် အရေး...</td>\n",
              "      <td>WrittenWork</td>\n",
              "    </tr>\n",
              "    <tr>\n",
              "      <th>559999</th>\n",
              "      <td>14</td>\n",
              "      <td>The Vinyl Cafe Notebooks</td>\n",
              "      <td>Vinyl Cafe Notebooks: a collection of essays ...</td>\n",
              "      <td>WrittenWork</td>\n",
              "    </tr>\n",
              "  </tbody>\n",
              "</table>\n",
              "</div>"
            ],
            "text/plain": [
              "        class  ...   class_name\n",
              "559995     14  ...  WrittenWork\n",
              "559996     14  ...  WrittenWork\n",
              "559997     14  ...  WrittenWork\n",
              "559998     14  ...  WrittenWork\n",
              "559999     14  ...  WrittenWork\n",
              "\n",
              "[5 rows x 4 columns]"
            ]
          },
          "metadata": {
            "tags": []
          },
          "execution_count": 6
        }
      ]
    },
    {
      "cell_type": "code",
      "metadata": {
        "id": "QncmZbB5FDjv",
        "colab_type": "code",
        "colab": {
          "base_uri": "https://localhost:8080/",
          "height": 545
        },
        "outputId": "17e43192-b788-4831-85c6-34da6183e0cf"
      },
      "source": [
        "#df.describe().transpose()\n",
        "desc = df.groupby('class')\n",
        "desc.describe()"
      ],
      "execution_count": 7,
      "outputs": [
        {
          "output_type": "execute_result",
          "data": {
            "text/html": [
              "<div>\n",
              "<style scoped>\n",
              "    .dataframe tbody tr th:only-of-type {\n",
              "        vertical-align: middle;\n",
              "    }\n",
              "\n",
              "    .dataframe tbody tr th {\n",
              "        vertical-align: top;\n",
              "    }\n",
              "\n",
              "    .dataframe thead tr th {\n",
              "        text-align: left;\n",
              "    }\n",
              "\n",
              "    .dataframe thead tr:last-of-type th {\n",
              "        text-align: right;\n",
              "    }\n",
              "</style>\n",
              "<table border=\"1\" class=\"dataframe\">\n",
              "  <thead>\n",
              "    <tr>\n",
              "      <th></th>\n",
              "      <th colspan=\"4\" halign=\"left\">name</th>\n",
              "      <th colspan=\"4\" halign=\"left\">description</th>\n",
              "      <th colspan=\"4\" halign=\"left\">class_name</th>\n",
              "    </tr>\n",
              "    <tr>\n",
              "      <th></th>\n",
              "      <th>count</th>\n",
              "      <th>unique</th>\n",
              "      <th>top</th>\n",
              "      <th>freq</th>\n",
              "      <th>count</th>\n",
              "      <th>unique</th>\n",
              "      <th>top</th>\n",
              "      <th>freq</th>\n",
              "      <th>count</th>\n",
              "      <th>unique</th>\n",
              "      <th>top</th>\n",
              "      <th>freq</th>\n",
              "    </tr>\n",
              "    <tr>\n",
              "      <th>class</th>\n",
              "      <th></th>\n",
              "      <th></th>\n",
              "      <th></th>\n",
              "      <th></th>\n",
              "      <th></th>\n",
              "      <th></th>\n",
              "      <th></th>\n",
              "      <th></th>\n",
              "      <th></th>\n",
              "      <th></th>\n",
              "      <th></th>\n",
              "      <th></th>\n",
              "    </tr>\n",
              "  </thead>\n",
              "  <tbody>\n",
              "    <tr>\n",
              "      <th>1</th>\n",
              "      <td>40000</td>\n",
              "      <td>40000</td>\n",
              "      <td>JMY Records</td>\n",
              "      <td>1</td>\n",
              "      <td>40000</td>\n",
              "      <td>39996</td>\n",
              "      <td>MegaPath Corporation—headquartered in Pleasan...</td>\n",
              "      <td>2</td>\n",
              "      <td>40000</td>\n",
              "      <td>1</td>\n",
              "      <td>Company</td>\n",
              "      <td>40000</td>\n",
              "    </tr>\n",
              "    <tr>\n",
              "      <th>2</th>\n",
              "      <td>40000</td>\n",
              "      <td>40000</td>\n",
              "      <td>RGS Springfield</td>\n",
              "      <td>1</td>\n",
              "      <td>40000</td>\n",
              "      <td>39992</td>\n",
              "      <td>Dr. Meghnad Saha College is a college in Itah...</td>\n",
              "      <td>2</td>\n",
              "      <td>40000</td>\n",
              "      <td>1</td>\n",
              "      <td>EducationalInstitution</td>\n",
              "      <td>40000</td>\n",
              "    </tr>\n",
              "    <tr>\n",
              "      <th>3</th>\n",
              "      <td>40000</td>\n",
              "      <td>40000</td>\n",
              "      <td>Blanche Forsythe</td>\n",
              "      <td>1</td>\n",
              "      <td>40000</td>\n",
              "      <td>40000</td>\n",
              "      <td>Frederick Ronald (Fred) Williams OBE (23 Janu...</td>\n",
              "      <td>1</td>\n",
              "      <td>40000</td>\n",
              "      <td>1</td>\n",
              "      <td>Artist</td>\n",
              "      <td>40000</td>\n",
              "    </tr>\n",
              "    <tr>\n",
              "      <th>4</th>\n",
              "      <td>40000</td>\n",
              "      <td>40000</td>\n",
              "      <td>Broderick Perkins</td>\n",
              "      <td>1</td>\n",
              "      <td>40000</td>\n",
              "      <td>40000</td>\n",
              "      <td>Pinson Lamar Phil McCullough (1917–2003) was ...</td>\n",
              "      <td>1</td>\n",
              "      <td>40000</td>\n",
              "      <td>1</td>\n",
              "      <td>Athlete</td>\n",
              "      <td>40000</td>\n",
              "    </tr>\n",
              "    <tr>\n",
              "      <th>5</th>\n",
              "      <td>40000</td>\n",
              "      <td>40000</td>\n",
              "      <td>Philip Stanhope 5th Earl of Chesterfield</td>\n",
              "      <td>1</td>\n",
              "      <td>40000</td>\n",
              "      <td>39998</td>\n",
              "      <td>Dr.</td>\n",
              "      <td>3</td>\n",
              "      <td>40000</td>\n",
              "      <td>1</td>\n",
              "      <td>OfficeHolder</td>\n",
              "      <td>40000</td>\n",
              "    </tr>\n",
              "    <tr>\n",
              "      <th>6</th>\n",
              "      <td>40000</td>\n",
              "      <td>40000</td>\n",
              "      <td>Dassault Mystère</td>\n",
              "      <td>1</td>\n",
              "      <td>40000</td>\n",
              "      <td>39998</td>\n",
              "      <td>The Hero Karizma ZMR is a motorcycle manufact...</td>\n",
              "      <td>2</td>\n",
              "      <td>40000</td>\n",
              "      <td>1</td>\n",
              "      <td>MeanOfTransportation</td>\n",
              "      <td>40000</td>\n",
              "    </tr>\n",
              "    <tr>\n",
              "      <th>7</th>\n",
              "      <td>40000</td>\n",
              "      <td>40000</td>\n",
              "      <td>Gardencourt</td>\n",
              "      <td>1</td>\n",
              "      <td>40000</td>\n",
              "      <td>39998</td>\n",
              "      <td>Kuo Yuan Ye (Chinese: 郭元益; pinyin: Guōyuányì)...</td>\n",
              "      <td>2</td>\n",
              "      <td>40000</td>\n",
              "      <td>1</td>\n",
              "      <td>Building</td>\n",
              "      <td>40000</td>\n",
              "    </tr>\n",
              "    <tr>\n",
              "      <th>8</th>\n",
              "      <td>40000</td>\n",
              "      <td>40000</td>\n",
              "      <td>Kieferbach</td>\n",
              "      <td>1</td>\n",
              "      <td>40000</td>\n",
              "      <td>39927</td>\n",
              "      <td>Steinkopf is a mountain of Hesse Germany.</td>\n",
              "      <td>4</td>\n",
              "      <td>40000</td>\n",
              "      <td>1</td>\n",
              "      <td>NaturalPlace</td>\n",
              "      <td>40000</td>\n",
              "    </tr>\n",
              "    <tr>\n",
              "      <th>9</th>\n",
              "      <td>40000</td>\n",
              "      <td>40000</td>\n",
              "      <td>Bobrowniki Lubusz Voivodeship</td>\n",
              "      <td>1</td>\n",
              "      <td>40000</td>\n",
              "      <td>39999</td>\n",
              "      <td>Chah Amiq-e Astan Qods (Persian: چاه عميق است...</td>\n",
              "      <td>2</td>\n",
              "      <td>40000</td>\n",
              "      <td>1</td>\n",
              "      <td>Village</td>\n",
              "      <td>40000</td>\n",
              "    </tr>\n",
              "    <tr>\n",
              "      <th>10</th>\n",
              "      <td>40000</td>\n",
              "      <td>40000</td>\n",
              "      <td>Setiostoma callidora</td>\n",
              "      <td>1</td>\n",
              "      <td>40000</td>\n",
              "      <td>39995</td>\n",
              "      <td>Typhlops leucomelas is a species of snake in ...</td>\n",
              "      <td>2</td>\n",
              "      <td>40000</td>\n",
              "      <td>1</td>\n",
              "      <td>Animal</td>\n",
              "      <td>40000</td>\n",
              "    </tr>\n",
              "    <tr>\n",
              "      <th>11</th>\n",
              "      <td>40000</td>\n",
              "      <td>40000</td>\n",
              "      <td>Aesculus × carnea</td>\n",
              "      <td>1</td>\n",
              "      <td>40000</td>\n",
              "      <td>39993</td>\n",
              "      <td>The 'Buzz' series of Buddleja davidii cultiva...</td>\n",
              "      <td>4</td>\n",
              "      <td>40000</td>\n",
              "      <td>1</td>\n",
              "      <td>Plant</td>\n",
              "      <td>40000</td>\n",
              "    </tr>\n",
              "    <tr>\n",
              "      <th>12</th>\n",
              "      <td>40000</td>\n",
              "      <td>40000</td>\n",
              "      <td>Up from Below</td>\n",
              "      <td>1</td>\n",
              "      <td>40000</td>\n",
              "      <td>39999</td>\n",
              "      <td>Before Smile Empty Soul became Smile Empty So...</td>\n",
              "      <td>2</td>\n",
              "      <td>40000</td>\n",
              "      <td>1</td>\n",
              "      <td>Album</td>\n",
              "      <td>40000</td>\n",
              "    </tr>\n",
              "    <tr>\n",
              "      <th>13</th>\n",
              "      <td>40000</td>\n",
              "      <td>40000</td>\n",
              "      <td>Maattrraan</td>\n",
              "      <td>1</td>\n",
              "      <td>40000</td>\n",
              "      <td>40000</td>\n",
              "      <td>Tora's Pure Love (男はつらいよ 寅次郎純情詩集 Otoko wa Tsu...</td>\n",
              "      <td>1</td>\n",
              "      <td>40000</td>\n",
              "      <td>1</td>\n",
              "      <td>Film</td>\n",
              "      <td>40000</td>\n",
              "    </tr>\n",
              "    <tr>\n",
              "      <th>14</th>\n",
              "      <td>40000</td>\n",
              "      <td>40000</td>\n",
              "      <td>The Silver Cloud Café</td>\n",
              "      <td>1</td>\n",
              "      <td>40000</td>\n",
              "      <td>39984</td>\n",
              "      <td>Tom Clancy's Net Force Explorers or Net Force...</td>\n",
              "      <td>15</td>\n",
              "      <td>40000</td>\n",
              "      <td>1</td>\n",
              "      <td>WrittenWork</td>\n",
              "      <td>40000</td>\n",
              "    </tr>\n",
              "  </tbody>\n",
              "</table>\n",
              "</div>"
            ],
            "text/plain": [
              "        name         ...              class_name       \n",
              "       count unique  ...                     top   freq\n",
              "class                ...                               \n",
              "1      40000  40000  ...                 Company  40000\n",
              "2      40000  40000  ...  EducationalInstitution  40000\n",
              "3      40000  40000  ...                  Artist  40000\n",
              "4      40000  40000  ...                 Athlete  40000\n",
              "5      40000  40000  ...            OfficeHolder  40000\n",
              "6      40000  40000  ...    MeanOfTransportation  40000\n",
              "7      40000  40000  ...                Building  40000\n",
              "8      40000  40000  ...            NaturalPlace  40000\n",
              "9      40000  40000  ...                 Village  40000\n",
              "10     40000  40000  ...                  Animal  40000\n",
              "11     40000  40000  ...                   Plant  40000\n",
              "12     40000  40000  ...                   Album  40000\n",
              "13     40000  40000  ...                    Film  40000\n",
              "14     40000  40000  ...             WrittenWork  40000\n",
              "\n",
              "[14 rows x 12 columns]"
            ]
          },
          "metadata": {
            "tags": []
          },
          "execution_count": 7
        }
      ]
    },
    {
      "cell_type": "code",
      "metadata": {
        "id": "rOgAlOuGFDj3",
        "colab_type": "code",
        "colab": {}
      },
      "source": [
        "def clean_dataset(dataframe, shuffle=False, encode_ascii=False, clean_strings = False, label_prefix='__label__'):\n",
        "    # Transform train file\n",
        "    df = dataframe[['name','description']].apply(lambda x: x.str.replace(',',' '))\n",
        "    df['class'] = label_prefix + dataframe['class'].astype(str) + ' '\n",
        "    if clean_strings:\n",
        "        df[['name','description']] = df[['name','description']].apply(lambda x: x.str.replace('\"',''))\n",
        "        df[['name','description']] = df[['name','description']].apply(lambda x: x.str.replace('\\'',' \\' '))\n",
        "        df[['name','description']] = df[['name','description']].apply(lambda x: x.str.replace('.',' . '))\n",
        "        df[['name','description']] = df[['name','description']].apply(lambda x: x.str.replace('(',' ( '))\n",
        "        df[['name','description']] = df[['name','description']].apply(lambda x: x.str.replace(')',' ) '))\n",
        "        df[['name','description']] = df[['name','description']].apply(lambda x: x.str.replace('!',' ! '))\n",
        "        df[['name','description']] = df[['name','description']].apply(lambda x: x.str.replace('?',' ? '))\n",
        "        df[['name','description']] = df[['name','description']].apply(lambda x: x.str.replace(':',' '))\n",
        "        df[['name','description']] = df[['name','description']].apply(lambda x: x.str.replace(';',' '))\n",
        "        df[['name','description']] = df[['name','description']].apply(lambda x: x.str.lower())\n",
        "    if shuffle:\n",
        "        df.sample(frac=1).reset_index(drop=True)\n",
        "    if encode_ascii :\n",
        "        df[['name','description']] = df[['name','description']].apply(lambda x: x.str.normalize('NFKD').str.encode('ascii','ignore').str.decode('utf-8'))\n",
        "    df['name'] = ' ' + df['name'] + ' '\n",
        "    df['description'] = ' ' + df['description'] + ' '\n",
        "    return df"
      ],
      "execution_count": 0,
      "outputs": []
    },
    {
      "cell_type": "code",
      "metadata": {
        "id": "4iRC35b6FDkU",
        "colab_type": "code",
        "colab": {}
      },
      "source": [
        "%%time\n",
        "# Transform datasets\n",
        "df_train_clean = clean_dataset(df, True, False)\n",
        "df_test_clean = clean_dataset(df_test, False, False)\n",
        "\n",
        "# Write files to disk\n",
        "train_file_clean = data_path + 'dbpedia.train'\n",
        "df_train_clean.to_csv(train_file_clean, header=None, index=False, columns=['class','name','description'] )\n",
        "\n",
        "test_file_clean = data_path + 'dbpedia.test'\n",
        "df_test_clean.to_csv(test_file_clean, header=None, index=False, columns=['class','name','description'] )"
      ],
      "execution_count": 0,
      "outputs": []
    },
    {
      "cell_type": "code",
      "metadata": {
        "id": "nbNuG4uuFDkq",
        "colab_type": "code",
        "colab": {}
      },
      "source": [
        "df_train_clean.head()"
      ],
      "execution_count": 0,
      "outputs": []
    },
    {
      "cell_type": "code",
      "metadata": {
        "id": "Y6FLg8oNFDlb",
        "colab_type": "code",
        "colab": {}
      },
      "source": [
        "df_train_clean.tail()"
      ],
      "execution_count": 0,
      "outputs": []
    },
    {
      "cell_type": "code",
      "metadata": {
        "id": "hNRXb_rHFDmC",
        "colab_type": "code",
        "colab": {}
      },
      "source": [
        "df['description'][10]"
      ],
      "execution_count": 0,
      "outputs": []
    },
    {
      "cell_type": "code",
      "metadata": {
        "id": "aPP1I0BQFDmI",
        "colab_type": "code",
        "colab": {}
      },
      "source": [
        "df_train_clean['description'][10]"
      ],
      "execution_count": 0,
      "outputs": []
    },
    {
      "cell_type": "code",
      "metadata": {
        "id": "d5yQFv_UFDmO",
        "colab_type": "code",
        "colab": {}
      },
      "source": [
        "%%time\n",
        "# Train a classifier\n",
        "output_file = data_path + 'dp_model'\n",
        "classifier = fasttext.train_supervised(train_file_clean, output_file, label_prefix='__label__')"
      ],
      "execution_count": 0,
      "outputs": []
    },
    {
      "cell_type": "code",
      "metadata": {
        "id": "E9p2b3RDFDmm",
        "colab_type": "code",
        "colab": {}
      },
      "source": [
        "%%time\n",
        "# Evaluate classifier\n",
        "result = classifier.test(test_file_clean)\n",
        "print('P@1:', result.precision)\n",
        "print('R@1:', result.recall)\n",
        "print ('Number of examples:', result.nexamples)"
      ],
      "execution_count": 0,
      "outputs": []
    },
    {
      "cell_type": "code",
      "metadata": {
        "id": "73hk7CmXFDnC",
        "colab_type": "code",
        "colab": {}
      },
      "source": [
        ""
      ],
      "execution_count": 0,
      "outputs": []
    }
  ]
}