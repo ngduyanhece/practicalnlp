{
  "nbformat": 4,
  "nbformat_minor": 0,
  "metadata": {
    "kernelspec": {
      "display_name": "Python 3",
      "language": "python",
      "name": "python3"
    },
    "language_info": {
      "codemirror_mode": {
        "name": "ipython",
        "version": 3
      },
      "file_extension": ".py",
      "mimetype": "text/x-python",
      "name": "python",
      "nbconvert_exporter": "python",
      "pygments_lexer": "ipython3",
      "version": "3.6.5"
    },
    "colab": {
      "name": "KPE.ipynb",
      "provenance": [],
      "include_colab_link": true
    }
  },
  "cells": [
    {
      "cell_type": "markdown",
      "metadata": {
        "id": "view-in-github",
        "colab_type": "text"
      },
      "source": [
        "<a href=\"https://colab.research.google.com/github/nishkalavallabhi/practicalnlp/blob/V_2_0/Ch5/KPE.ipynb\" target=\"_parent\"><img src=\"https://colab.research.google.com/assets/colab-badge.svg\" alt=\"Open In Colab\"/></a>"
      ]
    },
    {
      "cell_type": "code",
      "metadata": {
        "id": "IxZC6yK20MfB",
        "colab_type": "code",
        "colab": {}
      },
      "source": [
        "#We need texacy, which inturn loads spacy library\n",
        "from textacy import *"
      ],
      "execution_count": 0,
      "outputs": []
    },
    {
      "cell_type": "code",
      "metadata": {
        "id": "lKwDSGCI0MfH",
        "colab_type": "code",
        "colab": {}
      },
      "source": [
        "#Load a spacy model, which will be used for all further processing.\n",
        "en = textacy.load_spacy('en_core_web_sm')\n",
        "\n",
        "#Let us use a sample text file, nlphistory.txt, which is the text from the history section of Wikipedia's\n",
        "#page on Natural Language Processing \n",
        "#https://en.wikipedia.org/wiki/Natural_language_processing\n",
        "mytext = open('/content/drive/NLP_book/Datasets/practicalnlp-master/Ch5/nlphistory.txt').read()\n",
        "\n",
        "#convert the text into a spacy document.\n",
        "mydoc = textacy.Doc(mytext, lang=en)"
      ],
      "execution_count": 0,
      "outputs": []
    },
    {
      "cell_type": "code",
      "metadata": {
        "id": "1_ODPGyI0MfN",
        "colab_type": "code",
        "colab": {},
        "outputId": "98893ecf-40f9-40dc-ee00-1ff538274371"
      },
      "source": [
        "from textacy import *\n",
        "#Load a spacy model, which will be used for all further processing.\n",
        "en = textacy.load_spacy('en_core_web_sm')\n",
        "#read the text file\n",
        "mytext = open('nlphistory.txt').read()\n",
        "#convert the text into a spacy document.\n",
        "mydoc = textacy.Doc(mytext, lang=en)\n",
        "#Print the keywords using TextRank algorithm, as implemented in Textacy.\n",
        "print(\"Textrank output: \", [kps for kps, weights in textacy.keyterms.textrank(mydoc, n_keyterms=5)])\n",
        "#Print the key words and phrases, using SGRank algorithm, as implemented in Textacy\n",
        "print(\"SGRank output: \", [kps for kps, weights in textacy.keyterms.sgrank(mydoc, n_keyterms=5)])"
      ],
      "execution_count": 0,
      "outputs": [
        {
          "output_type": "stream",
          "text": [
            "Textrank output:  ['system', 'result', 'datum', 'translation', 'machine']\n",
            "SGRank output:  ['natural language processing system', 'natural language processing', 'statistical machine translation', 'machine translation', 'system']\n"
          ],
          "name": "stdout"
        }
      ]
    },
    {
      "cell_type": "code",
      "metadata": {
        "id": "nS1eS9h20MfT",
        "colab_type": "code",
        "colab": {},
        "outputId": "86a4688b-37a0-4df8-a623-9f33c159334f"
      },
      "source": [
        "#Print the keywords using TextRank algorithm, as implemented in Textacy.\n",
        "print(textacy.keyterms.textrank(mydoc))"
      ],
      "execution_count": 0,
      "outputs": [
        {
          "output_type": "stream",
          "text": [
            "[('system', 0.025941235439828614), ('result', 0.016286402170023865), ('datum', 0.01618412746806498), ('translation', 0.015888636093322847), ('machine', 0.015301262573060841), ('language', 0.015088138526085709), ('research', 0.013459469122086879), ('task', 0.011367683664076542), ('learning', 0.011355562561191091), ('natural', 0.011193502993764716)]\n"
          ],
          "name": "stdout"
        }
      ]
    },
    {
      "cell_type": "code",
      "metadata": {
        "id": "k2qnQNGN0Mfa",
        "colab_type": "code",
        "colab": {},
        "outputId": "9aadaf3c-7c9e-4be8-bf44-7f13c47ba3fd"
      },
      "source": [
        "#Print the key words and phrases, using SGRank algorithm, as implemented in Textacy\n",
        "print(textacy.keyterms.sgrank(mydoc))"
      ],
      "execution_count": 0,
      "outputs": [
        {
          "output_type": "stream",
          "text": [
            "[('natural language processing system', 0.3952284196329864), ('natural language processing', 0.2259168150464388), ('statistical machine translation', 0.03196930505779216), ('machine translation', 0.03172909201080314), ('system', 0.015164030885824747), ('research', 0.014724677849927904), ('late 1980', 0.011716405800612914), ('real', 0.009830460287758728), ('early', 0.009343896844250589), ('world', 0.009301320303003966)]\n"
          ],
          "name": "stdout"
        }
      ]
    },
    {
      "cell_type": "code",
      "metadata": {
        "id": "cxiE5hHE0Mfd",
        "colab_type": "code",
        "colab": {}
      },
      "source": [
        "#TODO: More on using SGRank parameter options to show variants.\n"
      ],
      "execution_count": 0,
      "outputs": []
    },
    {
      "cell_type": "code",
      "metadata": {
        "id": "_l5hcR3-0Mfg",
        "colab_type": "code",
        "colab": {},
        "outputId": "d3404336-87e1-4bb3-8e6c-01864035630c"
      },
      "source": [
        "#To address the issue of overlapping key phrases, textacy has a function: aggregage_term_variants.\n",
        "#Choosing one of the grouped terms per item will give us a list of non-overlapping key phrases!\n",
        "terms = set([term for term,weight in textacy.keyterms.sgrank(mydoc)])\n",
        "print(textacy.keyterms.aggregate_term_variants(terms))"
      ],
      "execution_count": 0,
      "outputs": [
        {
          "output_type": "stream",
          "text": [
            "[{'natural language processing', 'natural language processing system'}, {'statistical machine translation', 'machine translation'}, {'late 1980'}, {'research'}, {'system'}, {'early'}, {'world'}, {'real'}]\n"
          ],
          "name": "stdout"
        }
      ]
    },
    {
      "cell_type": "code",
      "metadata": {
        "id": "r5ZWJ-WG0Mfk",
        "colab_type": "code",
        "colab": {},
        "outputId": "0423206b-9e0c-4a9f-cfc6-bb6213233bb1"
      },
      "source": [
        "#A way to look at key phrases is just consider all noun chunks as potential ones. \n",
        "#However, keep in mind this will result in a lot of phrases, and no way to rank them!\n",
        "\n",
        "print([chunk for chunk in textacy.extract.noun_chunks(mydoc)])"
      ],
      "execution_count": 0,
      "outputs": [
        {
          "output_type": "stream",
          "text": [
            "[history, natural language processing, 1950s, work, earlier periods, Alan Turing, article, what, criterion, intelligence, Georgetown experiment, fully automatic translation, more than sixty Russian sentences, English, authors, three or five years, machine translation, solved problem.[2, real progress, ALPAC report, ten-year-long research, expectations, machine translation, Little further research, machine translation, late 1980s, first statistical machine translation systems, notably successful natural language processing systems, 1960s, natural language system, restricted \"blocks worlds, restricted vocabularies, ELIZA, simulation, Rogerian psychotherapist, Joseph Weizenbaum, almost no information, human thought, emotion, ELIZA, startlingly human-like interaction, very small knowledge base, ELIZA, generic response, example, My head, you, your head, 1970s, many programmers, conceptual ontologies, real-world information, computer-understandable data, Examples, MARGIE, (Schank, SAM, Cullingford, PAM, (Wilensky, TaleSpin, Meehan, QUALM, Lehnert, Politics, Carbonell, Plot Units, time, many chatterbots, PARRY, Racter, Jabberwacky, 1980s, most natural language processing systems, complex sets, hand-written rules, late 1980s, revolution, natural language processing, introduction, algorithms, language processing, both the steady increase, computational power, Moore's law, gradual lessening, dominance, Chomskyan theories, linguistics, (e.g. transformational grammar, whose theoretical underpinnings, sort, corpus linguistics, machine-learning approach, language processing.[3, earliest-used machine, algorithms, decision trees, produced systems, existing hand-written rules, speech, use, hidden Markov models, natural language processing, research, statistical models, soft, probabilistic decisions, real-valued weights, features, input data, cache language models, many speech recognition systems, examples, such statistical models, Such models, unfamiliar input, especially input, errors, real-world data, more reliable results, larger system, multiple subtasks, notable early successes, field, machine translation, IBM Research, successively more complicated statistical models, systems, advantage, existing multilingual textual corpora, Parliament, Canada, European Union, result, laws, translation, governmental proceedings, official languages, corresponding systems, government, most other systems, corpora, tasks, systems, major limitation, success, systems, result, great deal, research, methods, limited amounts, data, Recent research, unsupervised and semi-supervised learning algorithms, Such algorithms, data, desired answers, combination, annotated and non-annotated data, task, supervised learning, less accurate results, given amount, input data, enormous amount, non-annotated data, other things, entire content, World Wide Web, inferior results, algorithm, low enough time complexity, representation learning, deep neural network-style machine learning methods, natural language processing, part, flurry, results, such techniques[4][5, -art, many natural language tasks, example, language, modeling,[6, many others, Popular techniques, use, word embeddings, semantic properties, words, increase, end-to-end learning, higher-level task, e.g., question answering, pipeline, separate intermediate tasks, speech, areas, shift, substantial changes, NLP systems, deep neural network-based approaches, statistical natural language processing, instance, term neural machine translation, NMT, fact, deep learning-based approaches, translation, sequence, need, intermediate steps, word, alignment, language, modeling, statistical machine translation, SMT]\n"
          ],
          "name": "stdout"
        }
      ]
    },
    {
      "cell_type": "markdown",
      "metadata": {
        "id": "4gLQ-0iv0Mfn",
        "colab_type": "text"
      },
      "source": [
        "Textacy also has a bunch of other information extraction functions, many of them based on regular expression patterns and heuristics to address extracting specific expressions such as acronyms and quotations. Apart from these, we can also extract matching custom regular expressions including POS tag patterns, or look for statements involving an entity, subject-verb-object tuples etc. We will discuss some of these as they come, in this chapter. \n",
        "\n",
        "Documentation: https://chartbeat-labs.github.io/textacy/api_reference.html"
      ]
    }
  ]
}