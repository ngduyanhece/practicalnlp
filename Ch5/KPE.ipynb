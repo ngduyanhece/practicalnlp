{
  "nbformat": 4,
  "nbformat_minor": 0,
  "metadata": {
    "kernelspec": {
      "display_name": "Python 3",
      "language": "python",
      "name": "python3"
    },
    "language_info": {
      "codemirror_mode": {
        "name": "ipython",
        "version": 3
      },
      "file_extension": ".py",
      "mimetype": "text/x-python",
      "name": "python",
      "nbconvert_exporter": "python",
      "pygments_lexer": "ipython3",
      "version": "3.6.5"
    },
    "colab": {
      "name": "KPE.ipynb",
      "provenance": [],
      "include_colab_link": true
    }
  },
  "cells": [
    {
      "cell_type": "markdown",
      "metadata": {
        "id": "view-in-github",
        "colab_type": "text"
      },
      "source": [
        "<a href=\"https://colab.research.google.com/github/nishkalavallabhi/practicalnlp/blob/V_2_0/Ch5/KPE.ipynb\" target=\"_parent\"><img src=\"https://colab.research.google.com/assets/colab-badge.svg\" alt=\"Open In Colab\"/></a>"
      ]
    },
    {
      "cell_type": "code",
      "metadata": {
        "id": "IxZC6yK20MfB",
        "colab_type": "code",
        "colab": {}
      },
      "source": [
        "!pip install textacy==0.9.1\n",
        "#We need texacy, which inturn loads spacy library\n"
      ],
      "execution_count": 0,
      "outputs": []
    },
    {
      "cell_type": "code",
      "metadata": {
        "id": "3eaxJ8ZE9-ie",
        "colab_type": "code",
        "colab": {
          "base_uri": "https://localhost:8080/",
          "height": 71
        },
        "outputId": "ddc9bd8d-2e65-4ea1-ee24-69adffda588b"
      },
      "source": [
        "import spacy\n",
        "import textacy\n",
        "import textacy.ke\n",
        "from textacy import *\n",
        "\n",
        "path = \"/content/drive/NLP_book/Datasets/practicalnlp-master/Ch5/nlphistory.txt\"\n",
        "mytext = open(path).read()\n",
        "en = textacy.load_spacy_lang(\"en_core_web_sm\", disable=(\"parser\",))\n",
        "doc = textacy.make_spacy_doc(mytext, lang=en)\n",
        "\n",
        "print(\"Textrank output: \", [kps for kps, weights in\n",
        "textacy.ke.textrank(doc, normalize=\"lemma\",  topn=5)])\n",
        "print(\"SGRank output: \", [kps for kps, weights in\n",
        "textacy.ke.sgrank(doc, topn=5)])"
      ],
      "execution_count": 6,
      "outputs": [
        {
          "output_type": "stream",
          "text": [
            "Textrank output:  ['successful natural language processing system', 'statistical machine translation system', 'natural language system', 'statistical natural language processing', 'natural language task']\n",
            "SGRank output:  ['natural language processing system', 'statistical machine translation', 'research', 'late 1980', 'early']\n"
          ],
          "name": "stdout"
        }
      ]
    }
  ]
}