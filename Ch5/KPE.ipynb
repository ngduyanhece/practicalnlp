{
  "nbformat": 4,
  "nbformat_minor": 0,
  "metadata": {
    "kernelspec": {
      "display_name": "Python 3",
      "language": "python",
      "name": "python3"
    },
    "language_info": {
      "codemirror_mode": {
        "name": "ipython",
        "version": 3
      },
      "file_extension": ".py",
      "mimetype": "text/x-python",
      "name": "python",
      "nbconvert_exporter": "python",
      "pygments_lexer": "ipython3",
      "version": "3.6.5"
    },
    "colab": {
      "name": "KPE.ipynb",
      "provenance": [],
      "include_colab_link": true
    }
  },
  "cells": [
    {
      "cell_type": "markdown",
      "metadata": {
        "id": "view-in-github",
        "colab_type": "text"
      },
      "source": [
        "<a href=\"https://colab.research.google.com/github/nishkalavallabhi/practicalnlp/blob/V_2_0/Ch5/KPE.ipynb\" target=\"_parent\"><img src=\"https://colab.research.google.com/assets/colab-badge.svg\" alt=\"Open In Colab\"/></a>"
      ]
    },
    {
      "cell_type": "code",
      "metadata": {
        "id": "P2UX37H9_lol",
        "colab_type": "code",
        "colab": {}
      },
      "source": [
        "!pip install textacy==0.9.1\n",
        "#We need texacy, which inturn loads spacy library"
      ],
      "execution_count": 0,
      "outputs": []
    },
    {
      "cell_type": "code",
      "metadata": {
        "id": "z2Z0ZJYh_nFD",
        "colab_type": "code",
        "colab": {}
      },
      "source": [
        "import spacy\n",
        "import textacy\n",
        "import textacy.ke\n",
        "from textacy import *"
      ],
      "execution_count": 0,
      "outputs": []
    },
    {
      "cell_type": "code",
      "metadata": {
        "id": "STw-EUz3_wUl",
        "colab_type": "code",
        "colab": {}
      },
      "source": [
        "path = \"/content/drive/NLP_book/Datasets/practicalnlp-master/Ch5/nlphistory.txt\"\n",
        "mytext = open(path).read()"
      ],
      "execution_count": 0,
      "outputs": []
    },
    {
      "cell_type": "code",
      "metadata": {
        "id": "3eaxJ8ZE9-ie",
        "colab_type": "code",
        "colab": {}
      },
      "source": [
        "\n",
        "\n",
        "en = textacy.load_spacy_lang(\"en_core_web_sm\", disable=(\"parser\",))\n",
        "doc = textacy.make_spacy_doc(mytext, lang=en)\n",
        "\n"
      ],
      "execution_count": 0,
      "outputs": []
    },
    {
      "cell_type": "code",
      "metadata": {
        "id": "rGWnAKiw_p2L",
        "colab_type": "code",
        "colab": {
          "base_uri": "https://localhost:8080/",
          "height": 54
        },
        "outputId": "e6f72150-e79d-4c48-aaf5-987e5b2e7d93"
      },
      "source": [
        "print(\"Textrank output: \", [kps for kps, weights in textacy.ke.textrank(doc, normalize=\"lemma\",  topn=5)])\n"
      ],
      "execution_count": 11,
      "outputs": [
        {
          "output_type": "stream",
          "text": [
            "Textrank output:  ['successful natural language processing system', 'statistical machine translation system', 'natural language system', 'statistical natural language processing', 'natural language task']\n"
          ],
          "name": "stdout"
        }
      ]
    },
    {
      "cell_type": "code",
      "metadata": {
        "id": "IxZC6yK20MfB",
        "colab_type": "code",
        "colab": {
          "base_uri": "https://localhost:8080/",
          "height": 34
        },
        "outputId": "07090d24-1d90-46df-f10c-0a9f231295bc"
      },
      "source": [
        "print(\"SGRank output: \", [kps for kps, weights in textacy.ke.sgrank(doc, topn=5)])"
      ],
      "execution_count": 12,
      "outputs": [
        {
          "output_type": "stream",
          "text": [
            "SGRank output:  ['natural language processing system', 'statistical machine translation', 'research', 'late 1980', 'early']\n"
          ],
          "name": "stdout"
        }
      ]
    }
  ]
}