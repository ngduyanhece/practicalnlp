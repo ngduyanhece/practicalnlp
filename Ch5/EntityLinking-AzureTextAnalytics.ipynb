{
  "nbformat": 4,
  "nbformat_minor": 0,
  "metadata": {
    "kernelspec": {
      "display_name": "Python 3",
      "language": "python",
      "name": "python3"
    },
    "language_info": {
      "codemirror_mode": {
        "name": "ipython",
        "version": 3
      },
      "file_extension": ".py",
      "mimetype": "text/x-python",
      "name": "python",
      "nbconvert_exporter": "python",
      "pygments_lexer": "ipython3",
      "version": "3.6.5"
    },
    "colab": {
      "name": "EntityLinking-AzureTextAnalytics.ipynb",
      "provenance": [],
      "include_colab_link": true
    }
  },
  "cells": [
    {
      "cell_type": "markdown",
      "metadata": {
        "id": "view-in-github",
        "colab_type": "text"
      },
      "source": [
        "<a href=\"https://colab.research.google.com/github/nishkalavallabhi/practicalnlp/blob/V_2_0/Ch5/EntityLinking-AzureTextAnalytics.ipynb\" target=\"_parent\"><img src=\"https://colab.research.google.com/assets/colab-badge.svg\" alt=\"Open In Colab\"/></a>"
      ]
    },
    {
      "cell_type": "markdown",
      "metadata": {
        "id": "iprSUpVv6a6k",
        "colab_type": "text"
      },
      "source": [
        "We \"import requests\" as it  abstracts the complexities of making HTTP requests behind an API"
      ]
    },
    {
      "cell_type": "markdown",
      "metadata": {
        "id": "S0TGR2fe6ge6",
        "colab_type": "text"
      },
      "source": [
        "We \"import pprint\" as it provides a capability to “pretty-print” arbitrary Python data structures in a form which can be used as input to the interpreter."
      ]
    },
    {
      "cell_type": "code",
      "metadata": {
        "id": "itLTJ9wLzP9c",
        "colab_type": "code",
        "colab": {}
      },
      "source": [
        "import requests\n",
        "import pprint\n",
        "\n",
        "my_api_key = 'd64a7e8ef8134e5a8244eef200f4f6c7' #replace this key later with a XXX string.\n"
      ],
      "execution_count": 0,
      "outputs": []
    },
    {
      "cell_type": "markdown",
      "metadata": {
        "id": "s5trTedH7MDK",
        "colab_type": "text"
      },
      "source": [
        "print_entities is a definition that interacts with Azure Api . It inputs text and an API key to the API-url and returns the API output "
      ]
    },
    {
      "cell_type": "code",
      "metadata": {
        "id": "Lrn-KDwRzP9g",
        "colab_type": "code",
        "colab": {}
      },
      "source": [
        "def print_entities(text):\n",
        "    url = \"https://westcentralus.api.cognitive.microsoft.com/text/analytics/v2.1/entities\"\n",
        "    documents = {'documents':[{'id':'1', 'language':'en', 'text':text}]}\n",
        "    headers = {'Ocp-Apim-Subscription-Key': my_api_key}\n",
        "    response = requests.post(url, headers=headers, json=documents)\n",
        "    entities = response.json()\n",
        "    return entities\n"
      ],
      "execution_count": 0,
      "outputs": []
    },
    {
      "cell_type": "markdown",
      "metadata": {
        "id": "l0zoHb0V-sPk",
        "colab_type": "text"
      },
      "source": [
        "Below code calls the print_entities definition and outputs the API result as is "
      ]
    },
    {
      "cell_type": "code",
      "metadata": {
        "id": "1R4uNnlrzP9j",
        "colab_type": "code",
        "colab": {
          "base_uri": "https://localhost:8080/",
          "height": 1000
        },
        "outputId": "8b71bce0-0e52-4664-ddb9-45421b0942e9"
      },
      "source": [
        "mytext = open(\"/content/drive/NLP_book/Datasets/practicalnlp-master/Ch5/nytarticle.txt\").read()\n",
        "entities = print_entities(mytext)\n",
        "for document in entities[\"documents\"]:\n",
        "        pprint.pprint(document[\"entities\"])"
      ],
      "execution_count": 4,
      "outputs": [
        {
          "output_type": "stream",
          "text": [
            "[{'bingId': '37181124-e096-403d-a455-576a61b83525',\n",
            "  'matches': [{'entityTypeScore': 0.7327625155448914,\n",
            "               'length': 13,\n",
            "               'offset': 0,\n",
            "               'text': 'SAN FRANCISCO',\n",
            "               'wikipediaScore': 0.12176577071230787}],\n",
            "  'name': 'San Francisco',\n",
            "  'type': 'Location',\n",
            "  'wikipediaId': 'San Francisco',\n",
            "  'wikipediaLanguage': 'en',\n",
            "  'wikipediaUrl': 'https://en.wikipedia.org/wiki/San_Francisco'},\n",
            " {'bingId': '4bc8f781-7083-d1a0-f781-9466e0eb62e7',\n",
            "  'matches': [{'entityTypeScore': 0.8,\n",
            "               'length': 8,\n",
            "               'offset': 104,\n",
            "               'text': 'Facebook',\n",
            "               'wikipediaScore': 0.5200875541710397},\n",
            "              {'entityTypeScore': 0.8,\n",
            "               'length': 8,\n",
            "               'offset': 677,\n",
            "               'text': 'Facebook',\n",
            "               'wikipediaScore': 0.5200875541710397},\n",
            "              {'entityTypeScore': 0.8,\n",
            "               'length': 8,\n",
            "               'offset': 893,\n",
            "               'text': 'Facebook',\n",
            "               'wikipediaScore': 0.5200875541710397},\n",
            "              {'entityTypeScore': 0.8,\n",
            "               'length': 8,\n",
            "               'offset': 1068,\n",
            "               'text': 'Facebook',\n",
            "               'wikipediaScore': 0.5200875541710397}],\n",
            "  'name': 'Facebook',\n",
            "  'type': 'Organization',\n",
            "  'wikipediaId': 'Facebook',\n",
            "  'wikipediaLanguage': 'en',\n",
            "  'wikipediaUrl': 'https://en.wikipedia.org/wiki/Facebook'},\n",
            " {'matches': [{'entityTypeScore': 0.8,\n",
            "               'length': 8,\n",
            "               'offset': 116,\n",
            "               'text': 'Thursday'}],\n",
            "  'name': 'Thursday',\n",
            "  'subType': 'Date',\n",
            "  'type': 'DateTime'},\n",
            " {'matches': [{'entityTypeScore': 0.8,\n",
            "               'length': 5,\n",
            "               'offset': 133,\n",
            "               'text': 'seven'}],\n",
            "  'name': 'seven',\n",
            "  'subType': 'Number',\n",
            "  'type': 'Quantity'},\n",
            " {'bingId': 'ec26940f-36fe-6869-badb-b69d2a15444d',\n",
            "  'matches': [{'entityTypeScore': 0.988319456577301,\n",
            "               'length': 10,\n",
            "               'offset': 344,\n",
            "               'text': 'Alex Jones',\n",
            "               'wikipediaScore': 0.47746249492444437}],\n",
            "  'name': 'Alex Jones',\n",
            "  'type': 'Person',\n",
            "  'wikipediaId': 'Alex Jones',\n",
            "  'wikipediaLanguage': 'en',\n",
            "  'wikipediaUrl': 'https://en.wikipedia.org/wiki/Alex_Jones'},\n",
            " {'bingId': 'a9369de2-2dfa-92a4-6afb-a3224c4650d9',\n",
            "  'matches': [{'entityTypeScore': 0.8,\n",
            "               'length': 8,\n",
            "               'offset': 395,\n",
            "               'text': 'Infowars',\n",
            "               'wikipediaScore': 0.8840663754909142}],\n",
            "  'name': 'InfoWars',\n",
            "  'type': 'Other',\n",
            "  'wikipediaId': 'InfoWars',\n",
            "  'wikipediaLanguage': 'en',\n",
            "  'wikipediaUrl': 'https://en.wikipedia.org/wiki/InfoWars'},\n",
            " {'matches': [{'entityTypeScore': 0.8774750232696533,\n",
            "               'length': 8,\n",
            "               'offset': 395,\n",
            "               'text': 'Infowars'}],\n",
            "  'name': 'Infowars',\n",
            "  'type': 'Organization'},\n",
            " {'bingId': 'a1071308-9128-5833-a9f0-03e8f6699723',\n",
            "  'matches': [{'entityTypeScore': 0.9990239143371582,\n",
            "               'length': 15,\n",
            "               'offset': 466,\n",
            "               'text': 'Louis Farrakhan',\n",
            "               'wikipediaScore': 0.7806631440009439}],\n",
            "  'name': 'Louis Farrakhan',\n",
            "  'type': 'Person',\n",
            "  'wikipediaId': 'Louis Farrakhan',\n",
            "  'wikipediaLanguage': 'en',\n",
            "  'wikipediaUrl': 'https://en.wikipedia.org/wiki/Louis_Farrakhan'},\n",
            " {'bingId': 'f2412135-efa1-e09f-3471-09f0b1b9982f',\n",
            "  'matches': [{'entityTypeScore': 0.8,\n",
            "               'length': 12,\n",
            "               'offset': 567,\n",
            "               'text': 'anti-Semitic',\n",
            "               'wikipediaScore': 0.8321414107687208}],\n",
            "  'name': 'Antisemitism',\n",
            "  'type': 'Other',\n",
            "  'wikipediaId': 'Antisemitism',\n",
            "  'wikipediaLanguage': 'en',\n",
            "  'wikipediaUrl': 'https://en.wikipedia.org/wiki/Antisemitism'},\n",
            " {'bingId': 'a71a2b45-2e78-de38-9fde-548c008c91b0',\n",
            "  'matches': [{'entityTypeScore': 0.8783859610557556,\n",
            "               'length': 14,\n",
            "               'offset': 610,\n",
            "               'text': 'Silicon Valley',\n",
            "               'wikipediaScore': 0.20930001392533004}],\n",
            "  'name': 'Silicon Valley',\n",
            "  'type': 'Location',\n",
            "  'wikipediaId': 'Silicon Valley',\n",
            "  'wikipediaLanguage': 'en',\n",
            "  'wikipediaUrl': 'https://en.wikipedia.org/wiki/Silicon_Valley'},\n",
            " {'bingId': 'a2113d26-7976-df57-241f-77b7bbb1b4f7',\n",
            "  'matches': [{'entityTypeScore': 0.5208554267883301,\n",
            "               'length': 9,\n",
            "               'offset': 690,\n",
            "               'text': 'Instagram',\n",
            "               'wikipediaScore': 0.8806801684221779}],\n",
            "  'name': 'Instagram',\n",
            "  'type': 'Organization',\n",
            "  'wikipediaId': 'Instagram',\n",
            "  'wikipediaLanguage': 'en',\n",
            "  'wikipediaUrl': 'https://en.wikipedia.org/wiki/Instagram'},\n",
            " {'matches': [{'entityTypeScore': 0.8,\n",
            "               'length': 5,\n",
            "               'offset': 1059,\n",
            "               'text': 'today'}],\n",
            "  'name': 'today',\n",
            "  'subType': 'Date',\n",
            "  'type': 'DateTime'},\n",
            " {'matches': [{'entityTypeScore': 0.8,\n",
            "               'length': 3,\n",
            "               'offset': 1087,\n",
            "               'text': 'one'}],\n",
            "  'name': 'one',\n",
            "  'subType': 'Number',\n",
            "  'type': 'Quantity'}]\n"
          ],
          "name": "stdout"
        }
      ]
    },
    {
      "cell_type": "markdown",
      "metadata": {
        "id": "hwBja6tN_VDu",
        "colab_type": "text"
      },
      "source": [
        "Below code cleans the API output , so that pertinent data is shown"
      ]
    },
    {
      "cell_type": "code",
      "metadata": {
        "id": "-TfawExSzP9p",
        "colab_type": "code",
        "colab": {
          "base_uri": "https://localhost:8080/",
          "height": 255
        },
        "outputId": "0fe3d03a-016f-42ae-8f65-60ef49f158db"
      },
      "source": [
        "#Let us clean up a little bit, and not print the whole lot of messy stuff it gives us?\n",
        "for document in entities['documents']:\n",
        "    print(\"Entities in this document: \")\n",
        "    for entity in document['entities']:\n",
        "        if entity['type'] in [\"Person\", \"Location\", \"Organization\"]:\n",
        "            print(entity['name'], \"\\t\", entity['type'])\n",
        "            if 'wikipediaUrl' in entity.keys():\n",
        "                print(entity['wikipediaUrl'])"
      ],
      "execution_count": 5,
      "outputs": [
        {
          "output_type": "stream",
          "text": [
            "Entities in this document: \n",
            "San Francisco \t Location\n",
            "https://en.wikipedia.org/wiki/San_Francisco\n",
            "Facebook \t Organization\n",
            "https://en.wikipedia.org/wiki/Facebook\n",
            "Alex Jones \t Person\n",
            "https://en.wikipedia.org/wiki/Alex_Jones\n",
            "Infowars \t Organization\n",
            "Louis Farrakhan \t Person\n",
            "https://en.wikipedia.org/wiki/Louis_Farrakhan\n",
            "Silicon Valley \t Location\n",
            "https://en.wikipedia.org/wiki/Silicon_Valley\n",
            "Instagram \t Organization\n",
            "https://en.wikipedia.org/wiki/Instagram\n"
          ],
          "name": "stdout"
        }
      ]
    }
  ]
}