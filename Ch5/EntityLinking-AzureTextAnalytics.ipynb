{
  "nbformat": 4,
  "nbformat_minor": 0,
  "metadata": {
    "kernelspec": {
      "display_name": "Python 3",
      "language": "python",
      "name": "python3"
    },
    "language_info": {
      "codemirror_mode": {
        "name": "ipython",
        "version": 3
      },
      "file_extension": ".py",
      "mimetype": "text/x-python",
      "name": "python",
      "nbconvert_exporter": "python",
      "pygments_lexer": "ipython3",
      "version": "3.6.5"
    },
    "colab": {
      "name": "EntityLinking-AzureTextAnalytics.ipynb",
      "provenance": []
    }
  },
  "cells": [
    {
      "cell_type": "markdown",
      "metadata": {
        "id": "O1QCOoIG2oHy",
        "colab_type": "text"
      },
      "source": [
        "Entity linking with Azure Text Analytics API.\n",
        "\n",
        "https://docs.microsoft.com/en-us/azure/cognitive-services/text-analytics/\n",
        "\n",
        "I am using a 7 day trial version, which gave me two API keys to play with and explore stuff."
      ]
    },
    {
      "cell_type": "code",
      "metadata": {
        "id": "zb55Wtqj2oH1",
        "colab_type": "code",
        "colab": {}
      },
      "source": [
        "import requests\n",
        "import pprint\n",
        "# THIS KEY NEEDS TO BE REGENERATED \n",
        "my_api_key = '9d8a7bdebe794084897c558e7067c6ad' #replace this key later with a XXX string.\n"
      ],
      "execution_count": 0,
      "outputs": []
    },
    {
      "cell_type": "code",
      "metadata": {
        "id": "nlp_zVQb2oH6",
        "colab_type": "code",
        "colab": {}
      },
      "source": [
        "def print_entities(text):\n",
        "    url = \"https://westcentralus.api.cognitive.microsoft.com/text/analytics/v2.1/entities\"\n",
        "    documents = {'documents':[{'id':'1', 'language':'en', 'text':text}]}\n",
        "    headers = {'Ocp-Apim-Subscription-Key': my_api_key}\n",
        "    response = requests.post(url, headers=headers, json=documents)\n",
        "    entities = response.json()\n",
        "    return entities\n"
      ],
      "execution_count": 0,
      "outputs": []
    },
    {
      "cell_type": "code",
      "metadata": {
        "id": "e0XrY9Sp2oH9",
        "colab_type": "code",
        "outputId": "0eec2e32-8965-45b3-8534-50d5602b2caa",
        "colab": {}
      },
      "source": [
        "mytext = open(\"/content/drive/NLP_book/Datasets/practicalnlp-master/Ch5/nytarticle.txt\").read()\n",
        "entities = print_entities(mytext)\n",
        "for document in entities[\"documents\"]:\n",
        "        pprint.pprint(document[\"entities\"])\n",
        "#This above code will print you a whole lot of stuff you may or may not use later."
      ],
      "execution_count": 0,
      "outputs": [
        {
          "output_type": "stream",
          "text": [
            "[{'bingId': '37181124-e096-403d-a455-576a61b83525',\n",
            "  'matches': [{'entityTypeScore': 0.7327625155448914,\n",
            "               'length': 13,\n",
            "               'offset': 0,\n",
            "               'text': 'SAN FRANCISCO',\n",
            "               'wikipediaScore': 0.12144925273060747}],\n",
            "  'name': 'San Francisco',\n",
            "  'type': 'Location',\n",
            "  'wikipediaId': 'San Francisco',\n",
            "  'wikipediaLanguage': 'en',\n",
            "  'wikipediaUrl': 'https://en.wikipedia.org/wiki/San_Francisco'},\n",
            " {'bingId': '0906eb9b-9868-63ec-4602-7c378ae70164',\n",
            "  'matches': [{'entityTypeScore': 0.8,\n",
            "               'length': 5,\n",
            "               'offset': 16,\n",
            "               'text': 'After',\n",
            "               'wikipediaScore': 0.00812327874600638}],\n",
            "  'name': '(after)',\n",
            "  'type': 'Other',\n",
            "  'wikipediaId': '(after)',\n",
            "  'wikipediaLanguage': 'en',\n",
            "  'wikipediaUrl': 'https://en.wikipedia.org/wiki/(after)'},\n",
            " {'bingId': '4bc8f781-7083-d1a0-f781-9466e0eb62e7',\n",
            "  'matches': [{'entityTypeScore': 0.8,\n",
            "               'length': 8,\n",
            "               'offset': 104,\n",
            "               'text': 'Facebook',\n",
            "               'wikipediaScore': 0.5219969429050335},\n",
            "              {'entityTypeScore': 0.8,\n",
            "               'length': 8,\n",
            "               'offset': 677,\n",
            "               'text': 'Facebook',\n",
            "               'wikipediaScore': 0.5219969429050335},\n",
            "              {'entityTypeScore': 0.5879055261611938,\n",
            "               'length': 8,\n",
            "               'offset': 893,\n",
            "               'text': 'Facebook',\n",
            "               'wikipediaScore': 0.5219969429050335},\n",
            "              {'entityTypeScore': 0.8,\n",
            "               'length': 8,\n",
            "               'offset': 1068,\n",
            "               'text': 'Facebook',\n",
            "               'wikipediaScore': 0.5219969429050335}],\n",
            "  'name': 'Facebook',\n",
            "  'type': 'Organization',\n",
            "  'wikipediaId': 'Facebook',\n",
            "  'wikipediaLanguage': 'en',\n",
            "  'wikipediaUrl': 'https://en.wikipedia.org/wiki/Facebook'},\n",
            " {'bingId': '6b6e0f90-78b7-7e6a-1e29-cf4d9dee9f0b',\n",
            "  'matches': [{'entityTypeScore': 0.8,\n",
            "               'length': 8,\n",
            "               'offset': 116,\n",
            "               'text': 'Thursday',\n",
            "               'wikipediaScore': 0.05000547579579395}],\n",
            "  'name': 'Thursday (band)',\n",
            "  'subType': 'Date',\n",
            "  'type': 'DateTime',\n",
            "  'wikipediaId': 'Thursday (band)',\n",
            "  'wikipediaLanguage': 'en',\n",
            "  'wikipediaUrl': 'https://en.wikipedia.org/wiki/Thursday_(band)'},\n",
            " {'matches': [{'entityTypeScore': 0.8,\n",
            "               'length': 5,\n",
            "               'offset': 133,\n",
            "               'text': 'seven'}],\n",
            "  'name': 'seven',\n",
            "  'subType': 'Number',\n",
            "  'type': 'Quantity'},\n",
            " {'bingId': 'ec26940f-36fe-6869-badb-b69d2a15444d',\n",
            "  'matches': [{'entityTypeScore': 0.988319456577301,\n",
            "               'length': 10,\n",
            "               'offset': 344,\n",
            "               'text': 'Alex Jones',\n",
            "               'wikipediaScore': 0.4794183562426806}],\n",
            "  'name': 'Alex Jones',\n",
            "  'type': 'Person',\n",
            "  'wikipediaId': 'Alex Jones',\n",
            "  'wikipediaLanguage': 'en',\n",
            "  'wikipediaUrl': 'https://en.wikipedia.org/wiki/Alex_Jones'},\n",
            " {'bingId': '4899eacf-aafa-3712-1d89-007b4af170ac',\n",
            "  'matches': [{'entityTypeScore': 0.8774750232696533,\n",
            "               'length': 8,\n",
            "               'offset': 395,\n",
            "               'text': 'Infowars',\n",
            "               'wikipediaScore': 0.8849458295514865}],\n",
            "  'name': 'InfoWars',\n",
            "  'type': 'Organization',\n",
            "  'wikipediaId': 'InfoWars',\n",
            "  'wikipediaLanguage': 'en',\n",
            "  'wikipediaUrl': 'https://en.wikipedia.org/wiki/InfoWars'},\n",
            " {'bingId': 'a1071308-9128-5833-a9f0-03e8f6699723',\n",
            "  'matches': [{'entityTypeScore': 0.9990239143371582,\n",
            "               'length': 15,\n",
            "               'offset': 466,\n",
            "               'text': 'Louis Farrakhan',\n",
            "               'wikipediaScore': 0.7820340718884586}],\n",
            "  'name': 'Louis Farrakhan',\n",
            "  'type': 'Person',\n",
            "  'wikipediaId': 'Louis Farrakhan',\n",
            "  'wikipediaLanguage': 'en',\n",
            "  'wikipediaUrl': 'https://en.wikipedia.org/wiki/Louis_Farrakhan'},\n",
            " {'bingId': 'f2412135-efa1-e09f-3471-09f0b1b9982f',\n",
            "  'matches': [{'entityTypeScore': 0.8,\n",
            "               'length': 12,\n",
            "               'offset': 567,\n",
            "               'text': 'anti-Semitic',\n",
            "               'wikipediaScore': 0.8332969507670542}],\n",
            "  'name': 'Antisemitism',\n",
            "  'type': 'Other',\n",
            "  'wikipediaId': 'Antisemitism',\n",
            "  'wikipediaLanguage': 'en',\n",
            "  'wikipediaUrl': 'https://en.wikipedia.org/wiki/Antisemitism'},\n",
            " {'bingId': 'a71a2b45-2e78-de38-9fde-548c008c91b0',\n",
            "  'matches': [{'entityTypeScore': 0.8784663677215576,\n",
            "               'length': 14,\n",
            "               'offset': 610,\n",
            "               'text': 'Silicon Valley',\n",
            "               'wikipediaScore': 0.21029969003093418}],\n",
            "  'name': 'Silicon Valley',\n",
            "  'type': 'Location',\n",
            "  'wikipediaId': 'Silicon Valley',\n",
            "  'wikipediaLanguage': 'en',\n",
            "  'wikipediaUrl': 'https://en.wikipedia.org/wiki/Silicon_Valley'},\n",
            " {'bingId': 'a2113d26-7976-df57-241f-77b7bbb1b4f7',\n",
            "  'matches': [{'entityTypeScore': 0.5208554267883301,\n",
            "               'length': 9,\n",
            "               'offset': 690,\n",
            "               'text': 'Instagram',\n",
            "               'wikipediaScore': 0.8818871885112982}],\n",
            "  'name': 'Instagram',\n",
            "  'type': 'Organization',\n",
            "  'wikipediaId': 'Instagram',\n",
            "  'wikipediaLanguage': 'en',\n",
            "  'wikipediaUrl': 'https://en.wikipedia.org/wiki/Instagram'},\n",
            " {'matches': [{'entityTypeScore': 0.5382856130599976,\n",
            "               'length': 2,\n",
            "               'offset': 1015,\n",
            "               'text': 'us'}],\n",
            "  'name': 'us',\n",
            "  'type': 'Location'},\n",
            " {'matches': [{'entityTypeScore': 0.8,\n",
            "               'length': 5,\n",
            "               'offset': 1059,\n",
            "               'text': 'today'}],\n",
            "  'name': 'today',\n",
            "  'subType': 'Date',\n",
            "  'type': 'DateTime'},\n",
            " {'matches': [{'entityTypeScore': 0.8,\n",
            "               'length': 3,\n",
            "               'offset': 1087,\n",
            "               'text': 'one'}],\n",
            "  'name': 'one',\n",
            "  'subType': 'Number',\n",
            "  'type': 'Quantity'}]\n"
          ],
          "name": "stdout"
        }
      ]
    },
    {
      "cell_type": "code",
      "metadata": {
        "id": "02NqzhNj2oIC",
        "colab_type": "code",
        "outputId": "7dc09a4e-3500-443b-b28c-ae802b6b0cd6",
        "colab": {}
      },
      "source": [
        "#Let us clean up a little bit, and not print the whole lot of messy stuff it gives us?\n",
        "for document in entities['documents']:\n",
        "    print(\"Entities in this document: \")\n",
        "    for entity in document['entities']:\n",
        "        if entity['type'] in [\"Person\", \"Location\", \"Organization\"]:\n",
        "            print(entity['name'], \"\\t\", entity['type'])\n",
        "            if 'wikipediaUrl' in entity.keys():\n",
        "                print(entity['wikipediaUrl'])"
      ],
      "execution_count": 0,
      "outputs": [
        {
          "output_type": "stream",
          "text": [
            "Entities in this document: \n",
            "San Francisco \t Location\n",
            "https://en.wikipedia.org/wiki/San_Francisco\n",
            "Facebook \t Organization\n",
            "https://en.wikipedia.org/wiki/Facebook\n",
            "Alex Jones \t Person\n",
            "https://en.wikipedia.org/wiki/Alex_Jones\n",
            "InfoWars \t Organization\n",
            "https://en.wikipedia.org/wiki/InfoWars\n",
            "Louis Farrakhan \t Person\n",
            "https://en.wikipedia.org/wiki/Louis_Farrakhan\n",
            "Silicon Valley \t Location\n",
            "https://en.wikipedia.org/wiki/Silicon_Valley\n",
            "Instagram \t Organization\n",
            "https://en.wikipedia.org/wiki/Instagram\n",
            "us \t Location\n"
          ],
          "name": "stdout"
        }
      ]
    },
    {
      "cell_type": "code",
      "metadata": {
        "id": "YyAQDI5c2oIG",
        "colab_type": "code",
        "colab": {}
      },
      "source": [
        ""
      ],
      "execution_count": 0,
      "outputs": []
    }
  ]
}