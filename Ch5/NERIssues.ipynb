{
  "nbformat": 4,
  "nbformat_minor": 0,
  "metadata": {
    "kernelspec": {
      "display_name": "Python 3",
      "language": "python",
      "name": "python3"
    },
    "language_info": {
      "codemirror_mode": {
        "name": "ipython",
        "version": 3
      },
      "file_extension": ".py",
      "mimetype": "text/x-python",
      "name": "python",
      "nbconvert_exporter": "python",
      "pygments_lexer": "ipython3",
      "version": "3.6.5"
    },
    "colab": {
      "name": "NERIssues.ipynb",
      "provenance": [],
      "include_colab_link": true
    }
  },
  "cells": [
    {
      "cell_type": "markdown",
      "metadata": {
        "id": "view-in-github",
        "colab_type": "text"
      },
      "source": [
        "<a href=\"https://colab.research.google.com/github/nishkalavallabhi/practicalnlp/blob/V_2_0/Ch5/NERIssues.ipynb\" target=\"_parent\"><img src=\"https://colab.research.google.com/assets/colab-badge.svg\" alt=\"Open In Colab\"/></a>"
      ]
    },
    {
      "cell_type": "markdown",
      "metadata": {
        "id": "wpNaTJFhSNEh",
        "colab_type": "text"
      },
      "source": [
        "Load Spacy model - \"en_core_web_lg\" to perform  Named entities recognition \n",
        "\n",
        "\n"
      ]
    },
    {
      "cell_type": "code",
      "metadata": {
        "id": "5LyVmrF7BwdP",
        "colab_type": "code",
        "outputId": "3ca6db28-36ee-4794-e65b-eaf5d63f8683",
        "colab": {
          "base_uri": "https://localhost:8080/",
          "height": 51
        }
      },
      "source": [
        "import spacy.cli\n",
        "spacy.cli.download(\"en_core_web_lg\")\n",
        "import spacy\n",
        "nlp = spacy.load(\"en_core_web_lg\")"
      ],
      "execution_count": 0,
      "outputs": [
        {
          "output_type": "stream",
          "text": [
            "\u001b[38;5;2m✔ Download and installation successful\u001b[0m\n",
            "You can now load the model via spacy.load('en_core_web_lg')\n"
          ],
          "name": "stdout"
        }
      ]
    },
    {
      "cell_type": "markdown",
      "metadata": {
        "id": "huhk_Zf0SuZ4",
        "colab_type": "text"
      },
      "source": [
        "Input text for Named Entity Recognition tagging "
      ]
    },
    {
      "cell_type": "code",
      "metadata": {
        "id": "x-RfsDRo2pGd",
        "colab_type": "code",
        "colab": {}
      },
      "source": [
        "mytext = \"\"\"SAN FRANCISCO — Shortly after Apple used a new tax law last year to bring back most of the $252 billion it had held abroad, the company said it would buy back $100 billion of its stock.\n",
        "On Tuesday, Apple announced its plans for another major chunk of the money: It will buy back a further $75 billion in stock.\n",
        "“Our first priority is always looking after the business and making sure we continue to grow and invest,” Luca Maestri, Apple’s finance chief, said in an interview. “If there is excess cash, then obviously we want to return it to investors.”\n",
        "Apple’s record buybacks should be welcome news to shareholders, as the stock price is likely to climb. But the buybacks could also expose the company to more criticism that the tax cuts it received have mostly benefited investors and executives.\n",
        "\"\"\"\n"
      ],
      "execution_count": 0,
      "outputs": []
    },
    {
      "cell_type": "markdown",
      "metadata": {
        "id": "NF81y1XgQ346",
        "colab_type": "text"
      },
      "source": [
        "Run the en_core_web_lg model on the input text"
      ]
    },
    {
      "cell_type": "code",
      "metadata": {
        "id": "H0pD5bhrQ1Rs",
        "colab_type": "code",
        "colab": {}
      },
      "source": [
        "doc = nlp(mytext)"
      ],
      "execution_count": 0,
      "outputs": []
    },
    {
      "cell_type": "markdown",
      "metadata": {
        "id": "_0jGjr6fTGFg",
        "colab_type": "text"
      },
      "source": [
        "Named Entity Recognition tagged output from en_core_web_lg model . "
      ]
    },
    {
      "cell_type": "markdown",
      "metadata": {
        "id": "SdDYJh_7RaLh",
        "colab_type": "text"
      },
      "source": [
        "doc.ents is a tuple which contains the input data with its tag  "
      ]
    },
    {
      "cell_type": "code",
      "metadata": {
        "id": "TMIqFgbvQtHX",
        "colab_type": "code",
        "outputId": "bf11bc0b-2ed4-4bba-c70c-8046f4842116",
        "colab": {
          "base_uri": "https://localhost:8080/",
          "height": 221
        }
      },
      "source": [
        "\n",
        "for ent in doc.ents:\n",
        "    print(ent.text, \"\\t\", ent.label_)"
      ],
      "execution_count": 0,
      "outputs": [
        {
          "output_type": "stream",
          "text": [
            "SAN FRANCISCO \t GPE\n",
            "Apple \t ORG\n",
            "last year \t DATE\n",
            "$252 billion \t MONEY\n",
            "$100 billion \t MONEY\n",
            "Tuesday \t DATE\n",
            "Apple \t ORG\n",
            "$75 billion \t MONEY\n",
            "first \t ORDINAL\n",
            "Luca Maestri \t PERSON\n",
            "Apple \t ORG\n",
            "Apple \t ORG\n"
          ],
          "name": "stdout"
        }
      ]
    }
  ]
}