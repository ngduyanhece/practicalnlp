{
  "nbformat": 4,
  "nbformat_minor": 0,
  "metadata": {
    "kernelspec": {
      "display_name": "Python 3",
      "language": "python",
      "name": "python3"
    },
    "language_info": {
      "codemirror_mode": {
        "name": "ipython",
        "version": 3
      },
      "file_extension": ".py",
      "mimetype": "text/x-python",
      "name": "python",
      "nbconvert_exporter": "python",
      "pygments_lexer": "ipython3",
      "version": "3.6.5"
    },
    "colab": {
      "name": "REWatson.ipynb",
      "provenance": []
    }
  },
  "cells": [
    {
      "cell_type": "code",
      "metadata": {
        "id": "B8wY-KnZIBZt",
        "colab_type": "code",
        "colab": {},
        "outputId": "894bf242-e7b3-4546-e056-d14b203093b8"
      },
      "source": [
        "# THE KEY NEEDS TO BE REGENERATED \n",
        "import json\n",
        "from watson_developer_cloud import NaturalLanguageUnderstandingV1\n",
        "from watson_developer_cloud.natural_language_understanding_v1 import Features, RelationsOptions\n",
        "\n",
        "natural_language_understanding = NaturalLanguageUnderstandingV1(\n",
        "    version='2018-11-16',\n",
        "    iam_apikey='XXXXX',\n",
        "    url='https://gateway-wdc.watsonplatform.net/natural-language-understanding/api'\n",
        ")\n",
        "\n",
        "response = natural_language_understanding.analyze(\n",
        "    text='Leonardo DiCaprio won Best Actor in a Leading Role for his performance.',\n",
        "    features=Features(relations=RelationsOptions())).get_result()\n",
        "\n",
        "print(json.dumps(response, indent=2))"
      ],
      "execution_count": 0,
      "outputs": [
        {
          "output_type": "stream",
          "text": [
            "/usr/local/lib/python3.6/dist-packages/ipykernel_launcher.py:8: DeprecationWarning: watson-developer-cloud moved to ibm-watson. To get updates, use the new package.\n",
            "  \n"
          ],
          "name": "stderr"
        },
        {
          "output_type": "stream",
          "text": [
            "{\n",
            "  \"usage\": {\n",
            "    \"text_units\": 1,\n",
            "    \"text_characters\": 71,\n",
            "    \"features\": 1\n",
            "  },\n",
            "  \"relations\": [\n",
            "    {\n",
            "      \"type\": \"awardedTo\",\n",
            "      \"sentence\": \"Leonardo DiCaprio won Best Actor in a Leading Role for his performance.\",\n",
            "      \"score\": 0.680715,\n",
            "      \"arguments\": [\n",
            "        {\n",
            "          \"text\": \"Best Actor\",\n",
            "          \"location\": [\n",
            "            22,\n",
            "            32\n",
            "          ],\n",
            "          \"entities\": [\n",
            "            {\n",
            "              \"type\": \"EntertainmentAward\",\n",
            "              \"text\": \"Best Actor\"\n",
            "            }\n",
            "          ]\n",
            "        },\n",
            "        {\n",
            "          \"text\": \"Leonardo DiCaprio\",\n",
            "          \"location\": [\n",
            "            0,\n",
            "            17\n",
            "          ],\n",
            "          \"entities\": [\n",
            "            {\n",
            "              \"type\": \"Person\",\n",
            "              \"text\": \"Leonardo DiCaprio\"\n",
            "            }\n",
            "          ]\n",
            "        }\n",
            "      ]\n",
            "    }\n",
            "  ],\n",
            "  \"language\": \"en\"\n",
            "}\n"
          ],
          "name": "stdout"
        }
      ]
    },
    {
      "cell_type": "code",
      "metadata": {
        "id": "yRDmMElwIBZ4",
        "colab_type": "code",
        "colab": {}
      },
      "source": [
        "mytext = \"Satya Narayana Nadella currently serves as the Chief Executive Officer (CEO) of Microsoft.\""
      ],
      "execution_count": 0,
      "outputs": []
    },
    {
      "cell_type": "code",
      "metadata": {
        "id": "FL3mPM-wIBZ8",
        "colab_type": "code",
        "colab": {}
      },
      "source": [
        "response = natural_language_understanding.analyze(\n",
        "    text=mytext,\n",
        "    features=Features(relations=RelationsOptions())).get_result()\n",
        "\n",
        "#print(json.dumps(response, indent=2))"
      ],
      "execution_count": 0,
      "outputs": []
    },
    {
      "cell_type": "code",
      "metadata": {
        "id": "1MVScKTMIBaA",
        "colab_type": "code",
        "colab": {}
      },
      "source": [
        "result = json.dumps(response)\n"
      ],
      "execution_count": 0,
      "outputs": []
    },
    {
      "cell_type": "code",
      "metadata": {
        "id": "Cu6ooXM-IBaF",
        "colab_type": "code",
        "colab": {},
        "outputId": "fc58ffbe-2715-4b7b-9fa7-a354c9fa9a2d"
      },
      "source": [
        "result"
      ],
      "execution_count": 0,
      "outputs": [
        {
          "output_type": "execute_result",
          "data": {
            "text/plain": [
              "'{\"usage\": {\"text_units\": 1, \"text_characters\": 90, \"features\": 1}, \"relations\": [{\"type\": \"employedBy\", \"sentence\": \"Satya Narayana Nadella currently serves as the Chief Executive Officer (CEO) of Microsoft.\", \"score\": 0.48706, \"arguments\": [{\"text\": \"CEO\", \"location\": [72, 75], \"entities\": [{\"type\": \"Person\", \"text\": \"Satya Narayana Nadella\"}]}, {\"text\": \"Microsoft\", \"location\": [80, 89], \"entities\": [{\"type\": \"Organization\", \"text\": \"Microsoft\", \"disambiguation\": {\"subtype\": [\"Commercial\"]}}]}]}], \"language\": \"en\"}'"
            ]
          },
          "metadata": {
            "tags": []
          },
          "execution_count": 42
        }
      ]
    },
    {
      "cell_type": "code",
      "metadata": {
        "id": "ZkxOpeuRIBaI",
        "colab_type": "code",
        "colab": {},
        "outputId": "17ad8a35-4d76-4a15-8fdf-47b6fc8029b4"
      },
      "source": [
        "for item in response['relations']:\n",
        "        print(item['type'])\n",
        "        for subitem in item['arguments']:\n",
        "            print(subitem['entities'])\n",
        "print()"
      ],
      "execution_count": 0,
      "outputs": [
        {
          "output_type": "stream",
          "text": [
            "employedBy\n",
            "[{'type': 'Person', 'text': 'Satya Narayana Nadella'}]\n",
            "[{'type': 'Organization', 'text': 'Microsoft', 'disambiguation': {'subtype': ['Commercial']}}]\n",
            "\n"
          ],
          "name": "stdout"
        }
      ]
    },
    {
      "cell_type": "code",
      "metadata": {
        "id": "yD4fl2nRIBaM",
        "colab_type": "code",
        "colab": {},
        "outputId": "89657ae7-e811-4a4a-9846-cb9e3dab3b28"
      },
      "source": [
        "mytext2 = \"Nadella was born in Hyderabad. His father, Bukkapuram Nadella Yugandher, was a civil servant who worked for the Indian Administrative Service of the Government of India. His mother was a Sanskrit scholar. \"\n",
        "response = natural_language_understanding.analyze(\n",
        "    text=mytext2,\n",
        "    features=Features(relations=RelationsOptions())).get_result()\n",
        "for item in response['relations']:\n",
        "        print(item['type'])\n",
        "        for subitem in item['arguments']:\n",
        "            print(subitem['entities'])\n",
        "print()"
      ],
      "execution_count": 0,
      "outputs": [
        {
          "output_type": "stream",
          "text": [
            "bornAt\n",
            "[{'type': 'Person', 'text': 'Nadella'}]\n",
            "[{'type': 'GeopoliticalEntity', 'text': 'Hyderabad'}]\n",
            "parentOf\n",
            "[{'type': 'Person', 'text': 'Bukkapuram Nadella Yugandher'}]\n",
            "[{'type': 'Person', 'text': 'Nadella'}]\n",
            "employedBy\n",
            "[{'type': 'Person', 'text': 'Administrative'}]\n",
            "[{'type': 'GeopoliticalEntity', 'text': 'Indian', 'disambiguation': {'subtype': ['Country']}}]\n",
            "managerOf\n",
            "[{'type': 'Person', 'text': 'Administrative'}]\n",
            "[{'type': 'Organization', 'text': 'Service', 'disambiguation': {'subtype': ['Government']}}]\n",
            "parentOf\n",
            "[{'type': 'Person', 'text': 'scholar'}]\n",
            "[{'type': 'Person', 'text': 'Nadella'}]\n",
            "locatedAt\n",
            "[{'type': 'Person', 'text': 'scholar'}]\n",
            "[{'type': 'Facility', 'text': 'Sanskrit'}]\n",
            "locatedAt\n",
            "[{'type': 'Person', 'text': 'scholar'}]\n",
            "[{'type': 'Facility', 'text': 'Sanskrit'}]\n",
            "\n"
          ],
          "name": "stdout"
        }
      ]
    },
    {
      "cell_type": "code",
      "metadata": {
        "id": "PlBC87-FIBaP",
        "colab_type": "code",
        "colab": {},
        "outputId": "9cbd3646-3e85-4e90-ad7d-5cecd3f545c9"
      },
      "source": [
        "mytext3 = \"\"\"Nadella attended the Hyderabad Public School, Begumpet [12] before receiving\n",
        "a bachelor's in electrical engineering[13] from the Manipal Institute of Technology \n",
        "(then part of Mangalore University) in Karnataka in 1988.\"\"\"\n",
        "response = natural_language_understanding.analyze(\n",
        "    text=mytext3,\n",
        "    features=Features(relations=RelationsOptions())).get_result()\n",
        "for item in response['relations']:\n",
        "        print(item['type'])\n",
        "        for subitem in item['arguments']:\n",
        "            print(subitem['entities'])"
      ],
      "execution_count": 0,
      "outputs": [
        {
          "output_type": "stream",
          "text": [
            "employedBy\n",
            "[{'type': 'Person', 'text': 'Nadella'}]\n",
            "[{'type': 'Organization', 'text': 'Hyderabad Public School', 'disambiguation': {'subtype': ['Commercial']}}]\n",
            "awardedTo\n",
            "[{'type': 'Degree', 'text': 'bachelor'}]\n",
            "[{'type': 'Person', 'text': 'Nadella'}]\n",
            "educatedAt\n",
            "[{'type': 'Person', 'text': 'Nadella'}]\n",
            "[{'type': 'Organization', 'text': 'Manipal Institute of Technology', 'disambiguation': {'subtype': ['Educational']}}]\n",
            "educatedAt\n",
            "[{'type': 'Person', 'text': 'Nadella'}]\n",
            "[{'type': 'Organization', 'text': 'Mangalore University', 'disambiguation': {'subtype': ['Educational']}}]\n",
            "awardedBy\n",
            "[{'type': 'Degree', 'text': 'bachelor'}]\n",
            "[{'type': 'Organization', 'text': 'Manipal Institute of Technology', 'disambiguation': {'subtype': ['Educational']}}]\n",
            "basedIn\n",
            "[{'type': 'Organization', 'text': 'Mangalore University', 'disambiguation': {'subtype': ['Educational']}}]\n",
            "[{'type': 'GeopoliticalEntity', 'text': 'Karnataka'}]\n"
          ],
          "name": "stdout"
        }
      ]
    },
    {
      "cell_type": "code",
      "metadata": {
        "id": "6UB7DGY4IBaU",
        "colab_type": "code",
        "colab": {},
        "outputId": "49450514-4d37-448c-8c10-56c7ddae2cd7"
      },
      "source": [
        "mytext3 = \"\"\"Sachin was not born yesterday.\"\"\"\n",
        "response = natural_language_understanding.analyze(\n",
        "    text=mytext3,\n",
        "    features=Features(relations=RelationsOptions())).get_result()\n",
        "for item in response['relations']:\n",
        "        print(item['type'])\n",
        "        for subitem in item['arguments']:\n",
        "            print(subitem['entities'])"
      ],
      "execution_count": 0,
      "outputs": [
        {
          "output_type": "error",
          "ename": "NameError",
          "evalue": "name 'natural_language_understanding' is not defined",
          "traceback": [
            "\u001b[0;31m---------------------------------------------------------------------------\u001b[0m",
            "\u001b[0;31mNameError\u001b[0m                                 Traceback (most recent call last)",
            "\u001b[0;32m<ipython-input-1-fe1e14bc9a01>\u001b[0m in \u001b[0;36m<module>\u001b[0;34m\u001b[0m\n\u001b[1;32m      1\u001b[0m \u001b[0mmytext3\u001b[0m \u001b[0;34m=\u001b[0m \u001b[0;34m\"\"\"Sachin was not born yesterday.\"\"\"\u001b[0m\u001b[0;34m\u001b[0m\u001b[0m\n\u001b[0;32m----> 2\u001b[0;31m response = natural_language_understanding.analyze(\n\u001b[0m\u001b[1;32m      3\u001b[0m     \u001b[0mtext\u001b[0m\u001b[0;34m=\u001b[0m\u001b[0mmytext3\u001b[0m\u001b[0;34m,\u001b[0m\u001b[0;34m\u001b[0m\u001b[0m\n\u001b[1;32m      4\u001b[0m     features=Features(relations=RelationsOptions())).get_result()\n\u001b[1;32m      5\u001b[0m \u001b[0;32mfor\u001b[0m \u001b[0mitem\u001b[0m \u001b[0;32min\u001b[0m \u001b[0mresponse\u001b[0m\u001b[0;34m[\u001b[0m\u001b[0;34m'relations'\u001b[0m\u001b[0;34m]\u001b[0m\u001b[0;34m:\u001b[0m\u001b[0;34m\u001b[0m\u001b[0m\n",
            "\u001b[0;31mNameError\u001b[0m: name 'natural_language_understanding' is not defined"
          ]
        }
      ]
    },
    {
      "cell_type": "code",
      "metadata": {
        "id": "uX3KkLdGIBaZ",
        "colab_type": "code",
        "colab": {}
      },
      "source": [
        ""
      ],
      "execution_count": 0,
      "outputs": []
    }
  ]
}