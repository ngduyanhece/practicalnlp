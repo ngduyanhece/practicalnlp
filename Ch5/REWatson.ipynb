{
  "nbformat": 4,
  "nbformat_minor": 0,
  "metadata": {
    "kernelspec": {
      "display_name": "Python 3",
      "language": "python",
      "name": "python3"
    },
    "language_info": {
      "codemirror_mode": {
        "name": "ipython",
        "version": 3
      },
      "file_extension": ".py",
      "mimetype": "text/x-python",
      "name": "python",
      "nbconvert_exporter": "python",
      "pygments_lexer": "ipython3",
      "version": "3.6.5"
    },
    "colab": {
      "name": "REWatson.ipynb",
      "provenance": [],
      "include_colab_link": true
    }
  },
  "cells": [
    {
      "cell_type": "markdown",
      "metadata": {
        "id": "view-in-github",
        "colab_type": "text"
      },
      "source": [
        "<a href=\"https://colab.research.google.com/github/nishkalavallabhi/practicalnlp/blob/V_2_0/Ch5/REWatson.ipynb\" target=\"_parent\"><img src=\"https://colab.research.google.com/assets/colab-badge.svg\" alt=\"Open In Colab\"/></a>"
      ]
    },
    {
      "cell_type": "markdown",
      "metadata": {
        "id": "jLap5fJIUudp",
        "colab_type": "text"
      },
      "source": [
        ""
      ]
    },
    {
      "cell_type": "code",
      "metadata": {
        "id": "uPgUzKvqHGtI",
        "colab_type": "code",
        "colab": {}
      },
      "source": [
        "!pip3 install 'watson-developer-cloud==2.10.1'"
      ],
      "execution_count": 0,
      "outputs": []
    },
    {
      "cell_type": "code",
      "metadata": {
        "id": "2NsGa8pnAdfn",
        "colab_type": "code",
        "colab": {
          "base_uri": "https://localhost:8080/",
          "height": 51
        },
        "outputId": "834c8a20-c522-48db-8678-2b7f61a95825"
      },
      "source": [
        "import json\n",
        "from watson_developer_cloud import NaturalLanguageUnderstandingV1\n",
        "from watson_developer_cloud.natural_language_understanding_v1 import Features, RelationsOptions\n",
        "natural_language_understanding = NaturalLanguageUnderstandingV1(\n",
        "    version='2018-11-16',\n",
        "    iam_apikey='owSutq3oO3YDSqAVUCXsPDQKo2D5xuVO63tegrjnL4l0',\n",
        "    url='https://gateway-lon.watsonplatform.net/natural-language-understanding/api'\n",
        ")"
      ],
      "execution_count": 21,
      "outputs": [
        {
          "output_type": "stream",
          "text": [
            "/usr/local/lib/python3.6/dist-packages/ipykernel_launcher.py:8: DeprecationWarning: watson-developer-cloud moved to ibm-watson. To get updates, use the new package.\n",
            "  \n"
          ],
          "name": "stderr"
        }
      ]
    },
    {
      "cell_type": "code",
      "metadata": {
        "id": "YrbFytpFAdgF",
        "colab_type": "code",
        "colab": {
          "base_uri": "https://localhost:8080/",
          "height": 323
        },
        "outputId": "598a9e31-54f1-423e-da9b-bbad4e3b6e10"
      },
      "source": [
        "mytext3 = \"\"\"Nadella attended the Hyderabad Public School, Begumpet [12] before receiving\n",
        "a bachelor's in electrical engineering[13] from the Manipal Institute of Technology \n",
        "(then part of Mangalore University) in Karnataka in 1988.\"\"\"\n",
        "response = natural_language_understanding.analyze(\n",
        "    text=mytext3,\n",
        "    features=Features(relations=RelationsOptions())).get_result()\n",
        "for item in response['relations']:\n",
        "        print(item['type'])\n",
        "        for subitem in item['arguments']:\n",
        "            print(subitem['entities'])"
      ],
      "execution_count": 22,
      "outputs": [
        {
          "output_type": "stream",
          "text": [
            "employedBy\n",
            "[{'type': 'Person', 'text': 'Nadella'}]\n",
            "[{'type': 'Organization', 'text': 'Hyderabad Public School', 'disambiguation': {'subtype': ['Commercial']}}]\n",
            "awardedTo\n",
            "[{'type': 'Degree', 'text': 'bachelor'}]\n",
            "[{'type': 'Person', 'text': 'Nadella'}]\n",
            "educatedAt\n",
            "[{'type': 'Person', 'text': 'Nadella'}]\n",
            "[{'type': 'Organization', 'text': 'Manipal Institute of Technology', 'disambiguation': {'subtype': ['Educational']}}]\n",
            "educatedAt\n",
            "[{'type': 'Person', 'text': 'Nadella'}]\n",
            "[{'type': 'Organization', 'text': 'Mangalore University', 'disambiguation': {'subtype': ['Educational']}}]\n",
            "awardedBy\n",
            "[{'type': 'Degree', 'text': 'bachelor'}]\n",
            "[{'type': 'Organization', 'text': 'Manipal Institute of Technology', 'disambiguation': {'subtype': ['Educational']}}]\n",
            "basedIn\n",
            "[{'type': 'Organization', 'text': 'Mangalore University', 'disambiguation': {'subtype': ['Educational']}}]\n",
            "[{'type': 'GeopoliticalEntity', 'text': 'Karnataka'}]\n"
          ],
          "name": "stdout"
        }
      ]
    }
  ]
}