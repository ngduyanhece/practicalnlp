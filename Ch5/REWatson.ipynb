{
  "nbformat": 4,
  "nbformat_minor": 0,
  "metadata": {
    "kernelspec": {
      "display_name": "Python 3",
      "language": "python",
      "name": "python3"
    },
    "language_info": {
      "codemirror_mode": {
        "name": "ipython",
        "version": 3
      },
      "file_extension": ".py",
      "mimetype": "text/x-python",
      "name": "python",
      "nbconvert_exporter": "python",
      "pygments_lexer": "ipython3",
      "version": "3.6.5"
    },
    "colab": {
      "name": "REWatson.ipynb",
      "provenance": [],
      "include_colab_link": true
    }
  },
  "cells": [
    {
      "cell_type": "markdown",
      "metadata": {
        "id": "view-in-github",
        "colab_type": "text"
      },
      "source": [
        "<a href=\"https://colab.research.google.com/github/nishkalavallabhi/practicalnlp/blob/V_2_0/Ch5/REWatson.ipynb\" target=\"_parent\"><img src=\"https://colab.research.google.com/assets/colab-badge.svg\" alt=\"Open In Colab\"/></a>"
      ]
    },
    {
      "cell_type": "code",
      "metadata": {
        "id": "YMW7SlO7HS5O",
        "colab_type": "code",
        "colab": {},
        "outputId": "ff3b6a64-bbd3-4753-f646-da9d3c2b2cf8"
      },
      "source": [
        "import json\n",
        "from watson_developer_cloud import NaturalLanguageUnderstandingV1\n",
        "from watson_developer_cloud.natural_language_understanding_v1 import Features, RelationsOptions\n",
        "\n",
        "natural_language_understanding = NaturalLanguageUnderstandingV1(\n",
        "    version='2018-11-16',\n",
        "    iam_apikey='XXXXX',\n",
        "    url='https://gateway-wdc.watsonplatform.net/natural-language-understanding/api'\n",
        ")\n",
        "\n",
        "response = natural_language_understanding.analyze(\n",
        "    text='Leonardo DiCaprio won Best Actor in a Leading Role for his performance.',\n",
        "    features=Features(relations=RelationsOptions())).get_result()\n",
        "\n",
        "print(json.dumps(response, indent=2))"
      ],
      "execution_count": 0,
      "outputs": [
        {
          "output_type": "stream",
          "text": [
            "/usr/local/lib/python3.6/dist-packages/ipykernel_launcher.py:8: DeprecationWarning: watson-developer-cloud moved to ibm-watson. To get updates, use the new package.\n",
            "  \n"
          ],
          "name": "stderr"
        },
        {
          "output_type": "stream",
          "text": [
            "{\n",
            "  \"usage\": {\n",
            "    \"text_units\": 1,\n",
            "    \"text_characters\": 71,\n",
            "    \"features\": 1\n",
            "  },\n",
            "  \"relations\": [\n",
            "    {\n",
            "      \"type\": \"awardedTo\",\n",
            "      \"sentence\": \"Leonardo DiCaprio won Best Actor in a Leading Role for his performance.\",\n",
            "      \"score\": 0.680715,\n",
            "      \"arguments\": [\n",
            "        {\n",
            "          \"text\": \"Best Actor\",\n",
            "          \"location\": [\n",
            "            22,\n",
            "            32\n",
            "          ],\n",
            "          \"entities\": [\n",
            "            {\n",
            "              \"type\": \"EntertainmentAward\",\n",
            "              \"text\": \"Best Actor\"\n",
            "            }\n",
            "          ]\n",
            "        },\n",
            "        {\n",
            "          \"text\": \"Leonardo DiCaprio\",\n",
            "          \"location\": [\n",
            "            0,\n",
            "            17\n",
            "          ],\n",
            "          \"entities\": [\n",
            "            {\n",
            "              \"type\": \"Person\",\n",
            "              \"text\": \"Leonardo DiCaprio\"\n",
            "            }\n",
            "          ]\n",
            "        }\n",
            "      ]\n",
            "    }\n",
            "  ],\n",
            "  \"language\": \"en\"\n",
            "}\n"
          ],
          "name": "stdout"
        }
      ]
    },
    {
      "cell_type": "code",
      "metadata": {
        "id": "xvL4A-LFHS5X",
        "colab_type": "code",
        "colab": {}
      },
      "source": [
        "mytext = \"Satya Narayana Nadella currently serves as the Chief Executive Officer (CEO) of Microsoft.\""
      ],
      "execution_count": 0,
      "outputs": []
    },
    {
      "cell_type": "code",
      "metadata": {
        "id": "rVcxEuc0HS5b",
        "colab_type": "code",
        "colab": {}
      },
      "source": [
        "response = natural_language_understanding.analyze(\n",
        "    text=mytext,\n",
        "    features=Features(relations=RelationsOptions())).get_result()\n",
        "\n",
        "#print(json.dumps(response, indent=2))"
      ],
      "execution_count": 0,
      "outputs": []
    },
    {
      "cell_type": "code",
      "metadata": {
        "id": "G0B1ynLVHS5e",
        "colab_type": "code",
        "colab": {}
      },
      "source": [
        "result = json.dumps(response)\n"
      ],
      "execution_count": 0,
      "outputs": []
    },
    {
      "cell_type": "code",
      "metadata": {
        "id": "j0Jg-3EjHS5i",
        "colab_type": "code",
        "colab": {},
        "outputId": "841e9f8f-6367-49b1-e616-83476e599e66"
      },
      "source": [
        "result"
      ],
      "execution_count": 0,
      "outputs": [
        {
          "output_type": "execute_result",
          "data": {
            "text/plain": [
              "'{\"usage\": {\"text_units\": 1, \"text_characters\": 90, \"features\": 1}, \"relations\": [{\"type\": \"employedBy\", \"sentence\": \"Satya Narayana Nadella currently serves as the Chief Executive Officer (CEO) of Microsoft.\", \"score\": 0.48706, \"arguments\": [{\"text\": \"CEO\", \"location\": [72, 75], \"entities\": [{\"type\": \"Person\", \"text\": \"Satya Narayana Nadella\"}]}, {\"text\": \"Microsoft\", \"location\": [80, 89], \"entities\": [{\"type\": \"Organization\", \"text\": \"Microsoft\", \"disambiguation\": {\"subtype\": [\"Commercial\"]}}]}]}], \"language\": \"en\"}'"
            ]
          },
          "metadata": {
            "tags": []
          },
          "execution_count": 42
        }
      ]
    },
    {
      "cell_type": "code",
      "metadata": {
        "id": "PkIbf0HsHS5m",
        "colab_type": "code",
        "colab": {},
        "outputId": "f45caebb-7fbf-46f0-9734-da6ab0ad5d27"
      },
      "source": [
        "for item in response['relations']:\n",
        "        print(item['type'])\n",
        "        for subitem in item['arguments']:\n",
        "            print(subitem['entities'])\n",
        "print()"
      ],
      "execution_count": 0,
      "outputs": [
        {
          "output_type": "stream",
          "text": [
            "employedBy\n",
            "[{'type': 'Person', 'text': 'Satya Narayana Nadella'}]\n",
            "[{'type': 'Organization', 'text': 'Microsoft', 'disambiguation': {'subtype': ['Commercial']}}]\n",
            "\n"
          ],
          "name": "stdout"
        }
      ]
    },
    {
      "cell_type": "code",
      "metadata": {
        "id": "5hxPJrqFHS5q",
        "colab_type": "code",
        "colab": {},
        "outputId": "670cbfb5-46e2-46d8-ed56-ab5edbbcaf92"
      },
      "source": [
        "mytext2 = \"Nadella was born in Hyderabad. His father, Bukkapuram Nadella Yugandher, was a civil servant who worked for the Indian Administrative Service of the Government of India. His mother was a Sanskrit scholar. \"\n",
        "response = natural_language_understanding.analyze(\n",
        "    text=mytext2,\n",
        "    features=Features(relations=RelationsOptions())).get_result()\n",
        "for item in response['relations']:\n",
        "        print(item['type'])\n",
        "        for subitem in item['arguments']:\n",
        "            print(subitem['entities'])\n",
        "print()"
      ],
      "execution_count": 0,
      "outputs": [
        {
          "output_type": "stream",
          "text": [
            "bornAt\n",
            "[{'type': 'Person', 'text': 'Nadella'}]\n",
            "[{'type': 'GeopoliticalEntity', 'text': 'Hyderabad'}]\n",
            "parentOf\n",
            "[{'type': 'Person', 'text': 'Bukkapuram Nadella Yugandher'}]\n",
            "[{'type': 'Person', 'text': 'Nadella'}]\n",
            "employedBy\n",
            "[{'type': 'Person', 'text': 'Administrative'}]\n",
            "[{'type': 'GeopoliticalEntity', 'text': 'Indian', 'disambiguation': {'subtype': ['Country']}}]\n",
            "managerOf\n",
            "[{'type': 'Person', 'text': 'Administrative'}]\n",
            "[{'type': 'Organization', 'text': 'Service', 'disambiguation': {'subtype': ['Government']}}]\n",
            "parentOf\n",
            "[{'type': 'Person', 'text': 'scholar'}]\n",
            "[{'type': 'Person', 'text': 'Nadella'}]\n",
            "locatedAt\n",
            "[{'type': 'Person', 'text': 'scholar'}]\n",
            "[{'type': 'Facility', 'text': 'Sanskrit'}]\n",
            "locatedAt\n",
            "[{'type': 'Person', 'text': 'scholar'}]\n",
            "[{'type': 'Facility', 'text': 'Sanskrit'}]\n",
            "\n"
          ],
          "name": "stdout"
        }
      ]
    },
    {
      "cell_type": "code",
      "metadata": {
        "id": "l9zXbmUZHS5t",
        "colab_type": "code",
        "colab": {},
        "outputId": "59cadb97-0f5e-4120-a058-0ec27de6c528"
      },
      "source": [
        "mytext3 = \"\"\"Nadella attended the Hyderabad Public School, Begumpet [12] before receiving\n",
        "a bachelor's in electrical engineering[13] from the Manipal Institute of Technology \n",
        "(then part of Mangalore University) in Karnataka in 1988.\"\"\"\n",
        "response = natural_language_understanding.analyze(\n",
        "    text=mytext3,\n",
        "    features=Features(relations=RelationsOptions())).get_result()\n",
        "for item in response['relations']:\n",
        "        print(item['type'])\n",
        "        for subitem in item['arguments']:\n",
        "            print(subitem['entities'])"
      ],
      "execution_count": 0,
      "outputs": [
        {
          "output_type": "stream",
          "text": [
            "employedBy\n",
            "[{'type': 'Person', 'text': 'Nadella'}]\n",
            "[{'type': 'Organization', 'text': 'Hyderabad Public School', 'disambiguation': {'subtype': ['Commercial']}}]\n",
            "awardedTo\n",
            "[{'type': 'Degree', 'text': 'bachelor'}]\n",
            "[{'type': 'Person', 'text': 'Nadella'}]\n",
            "educatedAt\n",
            "[{'type': 'Person', 'text': 'Nadella'}]\n",
            "[{'type': 'Organization', 'text': 'Manipal Institute of Technology', 'disambiguation': {'subtype': ['Educational']}}]\n",
            "educatedAt\n",
            "[{'type': 'Person', 'text': 'Nadella'}]\n",
            "[{'type': 'Organization', 'text': 'Mangalore University', 'disambiguation': {'subtype': ['Educational']}}]\n",
            "awardedBy\n",
            "[{'type': 'Degree', 'text': 'bachelor'}]\n",
            "[{'type': 'Organization', 'text': 'Manipal Institute of Technology', 'disambiguation': {'subtype': ['Educational']}}]\n",
            "basedIn\n",
            "[{'type': 'Organization', 'text': 'Mangalore University', 'disambiguation': {'subtype': ['Educational']}}]\n",
            "[{'type': 'GeopoliticalEntity', 'text': 'Karnataka'}]\n"
          ],
          "name": "stdout"
        }
      ]
    },
    {
      "cell_type": "code",
      "metadata": {
        "id": "JYpUlQPeHS5x",
        "colab_type": "code",
        "colab": {}
      },
      "source": [
        ""
      ],
      "execution_count": 0,
      "outputs": []
    },
    {
      "cell_type": "code",
      "metadata": {
        "id": "QWWSfrx6HS52",
        "colab_type": "code",
        "colab": {}
      },
      "source": [
        ""
      ],
      "execution_count": 0,
      "outputs": []
    }
  ]
}